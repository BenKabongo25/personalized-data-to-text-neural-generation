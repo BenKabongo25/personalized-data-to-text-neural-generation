{
 "cells": [
  {
   "cell_type": "markdown",
   "id": "96bc8f3f",
   "metadata": {},
   "source": [
    "## Dataset : review - auteur"
   ]
  },
  {
   "cell_type": "code",
   "execution_count": 1,
   "id": "297b4f1f",
   "metadata": {},
   "outputs": [],
   "source": [
    "import pandas as pd"
   ]
  },
  {
   "cell_type": "code",
   "execution_count": 2,
   "id": "dc60b76e",
   "metadata": {},
   "outputs": [
    {
     "data": {
      "text/html": [
       "<div>\n",
       "<style scoped>\n",
       "    .dataframe tbody tr th:only-of-type {\n",
       "        vertical-align: middle;\n",
       "    }\n",
       "\n",
       "    .dataframe tbody tr th {\n",
       "        vertical-align: top;\n",
       "    }\n",
       "\n",
       "    .dataframe thead th {\n",
       "        text-align: right;\n",
       "    }\n",
       "</style>\n",
       "<table border=\"1\" class=\"dataframe\">\n",
       "  <thead>\n",
       "    <tr style=\"text-align: right;\">\n",
       "      <th></th>\n",
       "      <th>userID</th>\n",
       "      <th>target</th>\n",
       "    </tr>\n",
       "  </thead>\n",
       "  <tbody>\n",
       "    <tr>\n",
       "      <th>0</th>\n",
       "      <td>u/Andrew_L._Urban</td>\n",
       "      <td>A fantasy adventure that fuses Greek mythology...</td>\n",
       "    </tr>\n",
       "    <tr>\n",
       "      <th>1</th>\n",
       "      <td>u/Louise_Keller</td>\n",
       "      <td>Uma Thurman as Medusa, the gorgon with a coiff...</td>\n",
       "    </tr>\n",
       "    <tr>\n",
       "      <th>2</th>\n",
       "      <td>u/nan</td>\n",
       "      <td>With a top-notch cast and dazzling special eff...</td>\n",
       "    </tr>\n",
       "    <tr>\n",
       "      <th>3</th>\n",
       "      <td>u/Ben_McEachen</td>\n",
       "      <td>Whether audiences will get behind The Lightnin...</td>\n",
       "    </tr>\n",
       "    <tr>\n",
       "      <th>4</th>\n",
       "      <td>u/Ethan_Alter</td>\n",
       "      <td>What's really lacking in The Lightning Thief i...</td>\n",
       "    </tr>\n",
       "  </tbody>\n",
       "</table>\n",
       "</div>"
      ],
      "text/plain": [
       "              userID                                             target\n",
       "0  u/Andrew_L._Urban  A fantasy adventure that fuses Greek mythology...\n",
       "1    u/Louise_Keller  Uma Thurman as Medusa, the gorgon with a coiff...\n",
       "2              u/nan  With a top-notch cast and dazzling special eff...\n",
       "3     u/Ben_McEachen  Whether audiences will get behind The Lightnin...\n",
       "4      u/Ethan_Alter  What's really lacking in The Lightning Thief i..."
      ]
     },
     "execution_count": 2,
     "metadata": {},
     "output_type": "execute_result"
    }
   ],
   "source": [
    "users_output_df = pd.read_csv('../../../Data/appdata/rotten/users_output.csv', index_col=0)\n",
    "users_output_df = users_output_df[['userID', 'target']]\n",
    "users_output_df = users_output_df.dropna()\n",
    "users_output_df.head(5)"
   ]
  },
  {
   "cell_type": "code",
   "execution_count": 3,
   "id": "f579e442",
   "metadata": {},
   "outputs": [
    {
     "data": {
      "text/plain": [
       "userID    0\n",
       "target    0\n",
       "dtype: int64"
      ]
     },
     "execution_count": 3,
     "metadata": {},
     "output_type": "execute_result"
    }
   ],
   "source": [
    "users_output_df.isna().sum()"
   ]
  },
  {
   "cell_type": "code",
   "execution_count": 4,
   "id": "cc421a41",
   "metadata": {},
   "outputs": [
    {
     "data": {
      "text/plain": [
       "81"
      ]
     },
     "execution_count": 4,
     "metadata": {},
     "output_type": "execute_result"
    }
   ],
   "source": [
    "occurrences = users_output_df['userID'].value_counts()\n",
    "occurrences[occurrences >= 2000].__len__()"
   ]
  },
  {
   "cell_type": "code",
   "execution_count": 5,
   "id": "17531f94",
   "metadata": {},
   "outputs": [
    {
     "data": {
      "text/html": [
       "<div>\n",
       "<style scoped>\n",
       "    .dataframe tbody tr th:only-of-type {\n",
       "        vertical-align: middle;\n",
       "    }\n",
       "\n",
       "    .dataframe tbody tr th {\n",
       "        vertical-align: top;\n",
       "    }\n",
       "\n",
       "    .dataframe thead th {\n",
       "        text-align: right;\n",
       "    }\n",
       "</style>\n",
       "<table border=\"1\" class=\"dataframe\">\n",
       "  <thead>\n",
       "    <tr style=\"text-align: right;\">\n",
       "      <th></th>\n",
       "      <th>userID</th>\n",
       "      <th>target</th>\n",
       "    </tr>\n",
       "  </thead>\n",
       "  <tbody>\n",
       "    <tr>\n",
       "      <th>6</th>\n",
       "      <td>u/Nick_Schager</td>\n",
       "      <td>Harry Potter knockoffs don't come more transpa...</td>\n",
       "    </tr>\n",
       "    <tr>\n",
       "      <th>11</th>\n",
       "      <td>u/Roger_Moore</td>\n",
       "      <td>For what it is and for whom it is intended, it...</td>\n",
       "    </tr>\n",
       "    <tr>\n",
       "      <th>16</th>\n",
       "      <td>u/MaryAnn_Johanson</td>\n",
       "      <td>[P]erfectly inoffensive, occasionally clever.....</td>\n",
       "    </tr>\n",
       "    <tr>\n",
       "      <th>17</th>\n",
       "      <td>u/Mark_Dujsik</td>\n",
       "      <td>Admirably, the movie isn't bogged down in the ...</td>\n",
       "    </tr>\n",
       "    <tr>\n",
       "      <th>18</th>\n",
       "      <td>u/Nell_Minow</td>\n",
       "      <td>The main thing this movie seems to be missing ...</td>\n",
       "    </tr>\n",
       "  </tbody>\n",
       "</table>\n",
       "</div>"
      ],
      "text/plain": [
       "                userID                                             target\n",
       "6       u/Nick_Schager  Harry Potter knockoffs don't come more transpa...\n",
       "11       u/Roger_Moore  For what it is and for whom it is intended, it...\n",
       "16  u/MaryAnn_Johanson  [P]erfectly inoffensive, occasionally clever.....\n",
       "17       u/Mark_Dujsik  Admirably, the movie isn't bogged down in the ...\n",
       "18        u/Nell_Minow  The main thing this movie seems to be missing ..."
      ]
     },
     "execution_count": 5,
     "metadata": {},
     "output_type": "execute_result"
    }
   ],
   "source": [
    "mask = users_output_df['userID'].isin(occurrences[occurrences >= 2_000].index)\n",
    "users_output_df = users_output_df[mask]\n",
    "users_output_df = users_output_df[users_output_df['userID'] != 'u/nan']\n",
    "users_output_df.head()"
   ]
  },
  {
   "cell_type": "code",
   "execution_count": 6,
   "id": "11d3f252",
   "metadata": {},
   "outputs": [
    {
     "name": "stdout",
     "output_type": "stream",
     "text": [
      "['u/Nick_Schager' 'u/Roger_Moore' 'u/MaryAnn_Johanson' 'u/Mark_Dujsik'\n",
      " 'u/Nell_Minow' 'u/Dustin_Putman' 'u/Jeffrey_M._Anderson'\n",
      " 'u/Kenneth_Turan' 'u/Moira_MacDonald' 'u/Stephen_Whitty' 'u/Jeff_Vice'\n",
      " 'u/Wesley_Morris' 'u/Cole_Smithey' 'u/Michael_Phillips' 'u/Matt_Pais'\n",
      " 'u/Roger_Ebert' 'u/Rich_Cline' 'u/Matthew_Turner' 'u/Walter_Chaw'\n",
      " 'u/Tom_Long' 'u/Brian_Orndorf' 'u/Jim_Judy' 'u/Lou_Lumenick'\n",
      " 'u/Frank_Swietek' 'u/Chris_Hewitt' 'u/Sara_Michelle_Fetters'\n",
      " 'u/Peter_Bradshaw' 'u/David_Nusair' 'u/Fred_Topel' 'u/Robin_Clifford'\n",
      " 'u/A.O._Scott' 'u/Susan_Granger' 'u/Robert_Roten' 'u/John_Beifuss'\n",
      " 'u/Cynthia_Fuchs' 'u/Michael_Dequina' 'u/Peter_Canavese' 'u/Kevin_Carr'\n",
      " 'u/Richard_Propes' 'u/Harvey_S._Karten' 'u/Emanuel_Levy'\n",
      " 'u/Frederic_and_Mary_Ann_Brussat' 'u/Claudia_Puig' 'u/Laura_Clifford'\n",
      " 'u/Richard_Roeper' 'u/Kyle_Smith' 'u/Ty_Burr' 'u/Josh_Larsen'\n",
      " 'u/J._R._Jones' 'u/Peter_Rainer' 'u/Mick_LaSalle' 'u/Peter_Howell'\n",
      " 'u/Tim_Brayton' 'u/Peter_Travers' 'u/Josh_Bell' 'u/Ken_Hanke'\n",
      " 'u/Matt_Brunson' 'u/Dennis_Schwartz' 'u/Stephanie_Zacharek'\n",
      " 'u/Marjorie_Baumgarten' 'u/Gary_Thompson' 'u/Eric_D._Snider'\n",
      " 'u/Scott_Weinberg' 'u/Steve_Rhodes' 'u/Pablo_Villaça' 'u/Phil_Villarreal'\n",
      " 'u/Christopher_Null' 'u/James_Kendrick' 'u/Felix_Vasquez_Jr.'\n",
      " 'u/Sean_Axmaker' 'u/Edward_Douglas' 'u/James_Berardinelli'\n",
      " 'u/Luke_Y._Thompson' 'u/Sean_P._Means' 'u/Linda_Cook'\n",
      " 'u/Mike_McGranaghan' 'u/Maitland_McDonagh' 'u/Owen_Gleiberman'\n",
      " 'u/Todd_Jorgenson' 'u/Steven_Rea']\n"
     ]
    }
   ],
   "source": [
    "print(users_output_df.userID.unique())"
   ]
  },
  {
   "cell_type": "code",
   "execution_count": 7,
   "id": "dedfe49c",
   "metadata": {},
   "outputs": [],
   "source": [
    "train_size = 1600\n",
    "test_size = 200\n",
    "eval_size = 200\n",
    "\n",
    "train_set, train_label = [], []\n",
    "test_set, test_label = [], []\n",
    "eval_set, eval_label = [], []\n",
    "\n",
    "for u in users_output_df.userID.unique():\n",
    "    user_df = users_output_df[users_output_df['userID'] == u]\n",
    "    sample_df = user_df.sample(n=2000, replace=True)\n",
    "    examples = list(sample_df['target'])\n",
    "    \n",
    "    train_set.extend(examples[:train_size])\n",
    "    test_set.extend(examples[train_size:train_size+test_size])\n",
    "    eval_set.extend(examples[-eval_size:])\n",
    "    \n",
    "    train_label.extend([u]*train_size)\n",
    "    test_label.extend([u]*test_size)\n",
    "    eval_label.extend([u]*eval_size)"
   ]
  },
  {
   "cell_type": "code",
   "execution_count": 8,
   "id": "356023cb",
   "metadata": {},
   "outputs": [
    {
     "data": {
      "text/plain": [
       "(128000, 128000)"
      ]
     },
     "execution_count": 8,
     "metadata": {},
     "output_type": "execute_result"
    }
   ],
   "source": [
    "len(train_set), len(train_label)"
   ]
  },
  {
   "cell_type": "code",
   "execution_count": 9,
   "id": "1b901ffe",
   "metadata": {},
   "outputs": [
    {
     "data": {
      "text/plain": [
       "[\"Captures the recurring nightmare of substance abuse, which makes enduring the unthinkable (homelessness, prostitution, crime, death) an inevitable facet of one's day-to-day.\",\n",
       " \"Save for a brief prologue, there isn't a pro-slavery Southern man to be found in this fantasyland vision of the Civil War ...\",\n",
       " '...a successful bridge between the old and the new, and one that, no matter its emotional slimness, ultimately never loses sight of the fretful angst with which all kids must, at some point, contend.',\n",
       " 'Mechanical through and through.',\n",
       " \"There's barely a trace of substance to Kelly's fiasco, nor anything like a so-bad-it's-good vibe.\"]"
      ]
     },
     "execution_count": 9,
     "metadata": {},
     "output_type": "execute_result"
    }
   ],
   "source": [
    "train_set[:5]"
   ]
  },
  {
   "cell_type": "code",
   "execution_count": 10,
   "id": "15149e8a",
   "metadata": {},
   "outputs": [
    {
     "data": {
      "text/plain": [
       "['u/Nick_Schager',\n",
       " 'u/Nick_Schager',\n",
       " 'u/Nick_Schager',\n",
       " 'u/Nick_Schager',\n",
       " 'u/Nick_Schager']"
      ]
     },
     "execution_count": 10,
     "metadata": {},
     "output_type": "execute_result"
    }
   ],
   "source": [
    "train_label[:5]"
   ]
  },
  {
   "cell_type": "code",
   "execution_count": 11,
   "id": "2c88c0d7",
   "metadata": {},
   "outputs": [
    {
     "data": {
      "text/plain": [
       "(16000, 16000)"
      ]
     },
     "execution_count": 11,
     "metadata": {},
     "output_type": "execute_result"
    }
   ],
   "source": [
    "len(test_set), len(test_label)"
   ]
  },
  {
   "cell_type": "code",
   "execution_count": 12,
   "id": "b1246e23",
   "metadata": {},
   "outputs": [
    {
     "data": {
      "text/plain": [
       "(16000, 16000)"
      ]
     },
     "execution_count": 12,
     "metadata": {},
     "output_type": "execute_result"
    }
   ],
   "source": [
    "len(eval_set), len(eval_label)"
   ]
  },
  {
   "cell_type": "code",
   "execution_count": 13,
   "id": "660b122d",
   "metadata": {},
   "outputs": [
    {
     "data": {
      "text/plain": [
       "80"
      ]
     },
     "execution_count": 13,
     "metadata": {},
     "output_type": "execute_result"
    }
   ],
   "source": [
    "users_output_df.userID.unique().__len__()"
   ]
  },
  {
   "cell_type": "code",
   "execution_count": 14,
   "id": "a8310777",
   "metadata": {},
   "outputs": [],
   "source": [
    "train_df = pd.DataFrame({'text': train_set, 'label': train_label})\n",
    "test_df  = pd.DataFrame({'text': test_set, 'label': test_label})\n",
    "eval_df  = pd.DataFrame({'text': eval_set, 'label': eval_label})"
   ]
  },
  {
   "cell_type": "code",
   "execution_count": 15,
   "id": "530d25b3",
   "metadata": {},
   "outputs": [
    {
     "data": {
      "text/html": [
       "<div>\n",
       "<style scoped>\n",
       "    .dataframe tbody tr th:only-of-type {\n",
       "        vertical-align: middle;\n",
       "    }\n",
       "\n",
       "    .dataframe tbody tr th {\n",
       "        vertical-align: top;\n",
       "    }\n",
       "\n",
       "    .dataframe thead th {\n",
       "        text-align: right;\n",
       "    }\n",
       "</style>\n",
       "<table border=\"1\" class=\"dataframe\">\n",
       "  <thead>\n",
       "    <tr style=\"text-align: right;\">\n",
       "      <th></th>\n",
       "      <th>text</th>\n",
       "      <th>label</th>\n",
       "    </tr>\n",
       "  </thead>\n",
       "  <tbody>\n",
       "    <tr>\n",
       "      <th>0</th>\n",
       "      <td>Captures the recurring nightmare of substance ...</td>\n",
       "      <td>u/Nick_Schager</td>\n",
       "    </tr>\n",
       "    <tr>\n",
       "      <th>1</th>\n",
       "      <td>Save for a brief prologue, there isn't a pro-s...</td>\n",
       "      <td>u/Nick_Schager</td>\n",
       "    </tr>\n",
       "    <tr>\n",
       "      <th>2</th>\n",
       "      <td>...a successful bridge between the old and the...</td>\n",
       "      <td>u/Nick_Schager</td>\n",
       "    </tr>\n",
       "    <tr>\n",
       "      <th>3</th>\n",
       "      <td>Mechanical through and through.</td>\n",
       "      <td>u/Nick_Schager</td>\n",
       "    </tr>\n",
       "    <tr>\n",
       "      <th>4</th>\n",
       "      <td>There's barely a trace of substance to Kelly's...</td>\n",
       "      <td>u/Nick_Schager</td>\n",
       "    </tr>\n",
       "  </tbody>\n",
       "</table>\n",
       "</div>"
      ],
      "text/plain": [
       "                                                text           label\n",
       "0  Captures the recurring nightmare of substance ...  u/Nick_Schager\n",
       "1  Save for a brief prologue, there isn't a pro-s...  u/Nick_Schager\n",
       "2  ...a successful bridge between the old and the...  u/Nick_Schager\n",
       "3                    Mechanical through and through.  u/Nick_Schager\n",
       "4  There's barely a trace of substance to Kelly's...  u/Nick_Schager"
      ]
     },
     "execution_count": 15,
     "metadata": {},
     "output_type": "execute_result"
    }
   ],
   "source": [
    "train_df.head(5)"
   ]
  },
  {
   "cell_type": "code",
   "execution_count": 16,
   "id": "3ec29ae4",
   "metadata": {},
   "outputs": [
    {
     "data": {
      "text/plain": [
       "((128000, 2), (16000, 2), (16000, 2))"
      ]
     },
     "execution_count": 16,
     "metadata": {},
     "output_type": "execute_result"
    }
   ],
   "source": [
    "train_df.shape, test_df.shape, eval_df.shape"
   ]
  },
  {
   "cell_type": "code",
   "execution_count": 17,
   "id": "54db60f9",
   "metadata": {},
   "outputs": [],
   "source": [
    "dt_dir = '../../../Data/appdata/rotten/'\n",
    "train_df.to_csv(dt_dir + 'author80_train.csv')\n",
    "test_df.to_csv(dt_dir + 'author80_test.csv')\n",
    "eval_df.to_csv(dt_dir + 'author80_eval.csv')"
   ]
  }
 ],
 "metadata": {
  "kernelspec": {
   "display_name": "Python 3 (ipykernel)",
   "language": "python",
   "name": "python3"
  },
  "language_info": {
   "codemirror_mode": {
    "name": "ipython",
    "version": 3
   },
   "file_extension": ".py",
   "mimetype": "text/x-python",
   "name": "python",
   "nbconvert_exporter": "python",
   "pygments_lexer": "ipython3",
   "version": "3.9.13"
  }
 },
 "nbformat": 4,
 "nbformat_minor": 5
}
