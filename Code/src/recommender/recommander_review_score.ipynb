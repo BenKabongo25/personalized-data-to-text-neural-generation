{
 "cells": [
  {
   "cell_type": "markdown",
   "metadata": {},
   "source": [
    "## Rotten Tomatoes Movies : Recommandation basé sur les notes"
   ]
  },
  {
   "cell_type": "code",
   "execution_count": 1,
   "metadata": {},
   "outputs": [],
   "source": [
    "import matplotlib.pyplot as plt\n",
    "import numpy as np\n",
    "import pandas as pd\n",
    "import seaborn as sns\n",
    "import warnings"
   ]
  },
  {
   "cell_type": "code",
   "execution_count": 2,
   "metadata": {},
   "outputs": [],
   "source": [
    "warnings.filterwarnings('ignore')"
   ]
  },
  {
   "cell_type": "code",
   "execution_count": 3,
   "metadata": {},
   "outputs": [],
   "source": [
    "BASE_DIR = '../../../Data/rotten/'\n",
    "\n",
    "critic_reviews_filename = BASE_DIR + 'rotten_tomatoes_critic_reviews.csv'\n",
    "movies_filename = BASE_DIR + 'rotten_tomatoes_movies.csv'\n",
    "\n",
    "critic_reviews_df = pd.read_csv(critic_reviews_filename)\n",
    "movies_df = pd.read_csv(movies_filename)"
   ]
  },
  {
   "cell_type": "markdown",
   "metadata": {},
   "source": [
    "### Analyse des données"
   ]
  },
  {
   "cell_type": "code",
   "execution_count": 4,
   "metadata": {},
   "outputs": [
    {
     "data": {
      "text/html": [
       "<div>\n",
       "<style scoped>\n",
       "    .dataframe tbody tr th:only-of-type {\n",
       "        vertical-align: middle;\n",
       "    }\n",
       "\n",
       "    .dataframe tbody tr th {\n",
       "        vertical-align: top;\n",
       "    }\n",
       "\n",
       "    .dataframe thead th {\n",
       "        text-align: right;\n",
       "    }\n",
       "</style>\n",
       "<table border=\"1\" class=\"dataframe\">\n",
       "  <thead>\n",
       "    <tr style=\"text-align: right;\">\n",
       "      <th></th>\n",
       "      <th>rotten_tomatoes_link</th>\n",
       "      <th>critic_name</th>\n",
       "      <th>top_critic</th>\n",
       "      <th>publisher_name</th>\n",
       "      <th>review_type</th>\n",
       "      <th>review_score</th>\n",
       "      <th>review_date</th>\n",
       "      <th>review_content</th>\n",
       "    </tr>\n",
       "  </thead>\n",
       "  <tbody>\n",
       "    <tr>\n",
       "      <th>0</th>\n",
       "      <td>m/0814255</td>\n",
       "      <td>Andrew L. Urban</td>\n",
       "      <td>False</td>\n",
       "      <td>Urban Cinefile</td>\n",
       "      <td>Fresh</td>\n",
       "      <td>NaN</td>\n",
       "      <td>2010-02-06</td>\n",
       "      <td>A fantasy adventure that fuses Greek mythology...</td>\n",
       "    </tr>\n",
       "    <tr>\n",
       "      <th>1</th>\n",
       "      <td>m/0814255</td>\n",
       "      <td>Louise Keller</td>\n",
       "      <td>False</td>\n",
       "      <td>Urban Cinefile</td>\n",
       "      <td>Fresh</td>\n",
       "      <td>NaN</td>\n",
       "      <td>2010-02-06</td>\n",
       "      <td>Uma Thurman as Medusa, the gorgon with a coiff...</td>\n",
       "    </tr>\n",
       "    <tr>\n",
       "      <th>2</th>\n",
       "      <td>m/0814255</td>\n",
       "      <td>NaN</td>\n",
       "      <td>False</td>\n",
       "      <td>FILMINK (Australia)</td>\n",
       "      <td>Fresh</td>\n",
       "      <td>NaN</td>\n",
       "      <td>2010-02-09</td>\n",
       "      <td>With a top-notch cast and dazzling special eff...</td>\n",
       "    </tr>\n",
       "    <tr>\n",
       "      <th>3</th>\n",
       "      <td>m/0814255</td>\n",
       "      <td>Ben McEachen</td>\n",
       "      <td>False</td>\n",
       "      <td>Sunday Mail (Australia)</td>\n",
       "      <td>Fresh</td>\n",
       "      <td>3.5/5</td>\n",
       "      <td>2010-02-09</td>\n",
       "      <td>Whether audiences will get behind The Lightnin...</td>\n",
       "    </tr>\n",
       "    <tr>\n",
       "      <th>4</th>\n",
       "      <td>m/0814255</td>\n",
       "      <td>Ethan Alter</td>\n",
       "      <td>True</td>\n",
       "      <td>Hollywood Reporter</td>\n",
       "      <td>Rotten</td>\n",
       "      <td>NaN</td>\n",
       "      <td>2010-02-10</td>\n",
       "      <td>What's really lacking in The Lightning Thief i...</td>\n",
       "    </tr>\n",
       "    <tr>\n",
       "      <th>5</th>\n",
       "      <td>m/0814255</td>\n",
       "      <td>David Germain</td>\n",
       "      <td>True</td>\n",
       "      <td>Associated Press</td>\n",
       "      <td>Rotten</td>\n",
       "      <td>NaN</td>\n",
       "      <td>2010-02-10</td>\n",
       "      <td>It's more a list of ingredients than a movie-m...</td>\n",
       "    </tr>\n",
       "    <tr>\n",
       "      <th>6</th>\n",
       "      <td>m/0814255</td>\n",
       "      <td>Nick Schager</td>\n",
       "      <td>False</td>\n",
       "      <td>Slant Magazine</td>\n",
       "      <td>Rotten</td>\n",
       "      <td>1/4</td>\n",
       "      <td>2010-02-10</td>\n",
       "      <td>Harry Potter knockoffs don't come more transpa...</td>\n",
       "    </tr>\n",
       "    <tr>\n",
       "      <th>7</th>\n",
       "      <td>m/0814255</td>\n",
       "      <td>Bill Goodykoontz</td>\n",
       "      <td>True</td>\n",
       "      <td>Arizona Republic</td>\n",
       "      <td>Fresh</td>\n",
       "      <td>3.5/5</td>\n",
       "      <td>2010-02-10</td>\n",
       "      <td>Percy Jackson isn't a great movie, but it's a ...</td>\n",
       "    </tr>\n",
       "    <tr>\n",
       "      <th>8</th>\n",
       "      <td>m/0814255</td>\n",
       "      <td>Jordan Hoffman</td>\n",
       "      <td>False</td>\n",
       "      <td>UGO</td>\n",
       "      <td>Fresh</td>\n",
       "      <td>B</td>\n",
       "      <td>2010-02-10</td>\n",
       "      <td>Fun, brisk and imaginative</td>\n",
       "    </tr>\n",
       "    <tr>\n",
       "      <th>9</th>\n",
       "      <td>m/0814255</td>\n",
       "      <td>Jim Schembri</td>\n",
       "      <td>True</td>\n",
       "      <td>The Age (Australia)</td>\n",
       "      <td>Fresh</td>\n",
       "      <td>3/5</td>\n",
       "      <td>2010-02-10</td>\n",
       "      <td>Crammed with dragons, set-destroying fights an...</td>\n",
       "    </tr>\n",
       "  </tbody>\n",
       "</table>\n",
       "</div>"
      ],
      "text/plain": [
       "  rotten_tomatoes_link       critic_name  top_critic           publisher_name  \\\n",
       "0            m/0814255   Andrew L. Urban       False           Urban Cinefile   \n",
       "1            m/0814255     Louise Keller       False           Urban Cinefile   \n",
       "2            m/0814255               NaN       False      FILMINK (Australia)   \n",
       "3            m/0814255      Ben McEachen       False  Sunday Mail (Australia)   \n",
       "4            m/0814255       Ethan Alter        True       Hollywood Reporter   \n",
       "5            m/0814255     David Germain        True         Associated Press   \n",
       "6            m/0814255      Nick Schager       False           Slant Magazine   \n",
       "7            m/0814255  Bill Goodykoontz        True         Arizona Republic   \n",
       "8            m/0814255    Jordan Hoffman       False                      UGO   \n",
       "9            m/0814255      Jim Schembri        True      The Age (Australia)   \n",
       "\n",
       "  review_type review_score review_date  \\\n",
       "0       Fresh          NaN  2010-02-06   \n",
       "1       Fresh          NaN  2010-02-06   \n",
       "2       Fresh          NaN  2010-02-09   \n",
       "3       Fresh        3.5/5  2010-02-09   \n",
       "4      Rotten          NaN  2010-02-10   \n",
       "5      Rotten          NaN  2010-02-10   \n",
       "6      Rotten          1/4  2010-02-10   \n",
       "7       Fresh        3.5/5  2010-02-10   \n",
       "8       Fresh            B  2010-02-10   \n",
       "9       Fresh          3/5  2010-02-10   \n",
       "\n",
       "                                      review_content  \n",
       "0  A fantasy adventure that fuses Greek mythology...  \n",
       "1  Uma Thurman as Medusa, the gorgon with a coiff...  \n",
       "2  With a top-notch cast and dazzling special eff...  \n",
       "3  Whether audiences will get behind The Lightnin...  \n",
       "4  What's really lacking in The Lightning Thief i...  \n",
       "5  It's more a list of ingredients than a movie-m...  \n",
       "6  Harry Potter knockoffs don't come more transpa...  \n",
       "7  Percy Jackson isn't a great movie, but it's a ...  \n",
       "8                         Fun, brisk and imaginative  \n",
       "9  Crammed with dragons, set-destroying fights an...  "
      ]
     },
     "execution_count": 4,
     "metadata": {},
     "output_type": "execute_result"
    }
   ],
   "source": [
    "critic_reviews_df.head(10)"
   ]
  },
  {
   "cell_type": "code",
   "execution_count": 5,
   "metadata": {},
   "outputs": [
    {
     "data": {
      "text/html": [
       "<div>\n",
       "<style scoped>\n",
       "    .dataframe tbody tr th:only-of-type {\n",
       "        vertical-align: middle;\n",
       "    }\n",
       "\n",
       "    .dataframe tbody tr th {\n",
       "        vertical-align: top;\n",
       "    }\n",
       "\n",
       "    .dataframe thead th {\n",
       "        text-align: right;\n",
       "    }\n",
       "</style>\n",
       "<table border=\"1\" class=\"dataframe\">\n",
       "  <thead>\n",
       "    <tr style=\"text-align: right;\">\n",
       "      <th></th>\n",
       "      <th>rotten_tomatoes_link</th>\n",
       "      <th>movie_title</th>\n",
       "      <th>movie_info</th>\n",
       "      <th>critics_consensus</th>\n",
       "      <th>content_rating</th>\n",
       "      <th>genres</th>\n",
       "      <th>directors</th>\n",
       "      <th>authors</th>\n",
       "      <th>actors</th>\n",
       "      <th>original_release_date</th>\n",
       "      <th>...</th>\n",
       "      <th>production_company</th>\n",
       "      <th>tomatometer_status</th>\n",
       "      <th>tomatometer_rating</th>\n",
       "      <th>tomatometer_count</th>\n",
       "      <th>audience_status</th>\n",
       "      <th>audience_rating</th>\n",
       "      <th>audience_count</th>\n",
       "      <th>tomatometer_top_critics_count</th>\n",
       "      <th>tomatometer_fresh_critics_count</th>\n",
       "      <th>tomatometer_rotten_critics_count</th>\n",
       "    </tr>\n",
       "  </thead>\n",
       "  <tbody>\n",
       "    <tr>\n",
       "      <th>0</th>\n",
       "      <td>m/0814255</td>\n",
       "      <td>Percy Jackson &amp; the Olympians: The Lightning T...</td>\n",
       "      <td>Always trouble-prone, the life of teenager Per...</td>\n",
       "      <td>Though it may seem like just another Harry Pot...</td>\n",
       "      <td>PG</td>\n",
       "      <td>Action &amp; Adventure, Comedy, Drama, Science Fic...</td>\n",
       "      <td>Chris Columbus</td>\n",
       "      <td>Craig Titley, Chris Columbus, Rick Riordan</td>\n",
       "      <td>Logan Lerman, Brandon T. Jackson, Alexandra Da...</td>\n",
       "      <td>2010-02-12</td>\n",
       "      <td>...</td>\n",
       "      <td>20th Century Fox</td>\n",
       "      <td>Rotten</td>\n",
       "      <td>49.0</td>\n",
       "      <td>149.0</td>\n",
       "      <td>Spilled</td>\n",
       "      <td>53.0</td>\n",
       "      <td>254421.0</td>\n",
       "      <td>43</td>\n",
       "      <td>73</td>\n",
       "      <td>76</td>\n",
       "    </tr>\n",
       "    <tr>\n",
       "      <th>1</th>\n",
       "      <td>m/0878835</td>\n",
       "      <td>Please Give</td>\n",
       "      <td>Kate (Catherine Keener) and her husband Alex (...</td>\n",
       "      <td>Nicole Holofcener's newest might seem slight i...</td>\n",
       "      <td>R</td>\n",
       "      <td>Comedy</td>\n",
       "      <td>Nicole Holofcener</td>\n",
       "      <td>Nicole Holofcener</td>\n",
       "      <td>Catherine Keener, Amanda Peet, Oliver Platt, R...</td>\n",
       "      <td>2010-04-30</td>\n",
       "      <td>...</td>\n",
       "      <td>Sony Pictures Classics</td>\n",
       "      <td>Certified-Fresh</td>\n",
       "      <td>87.0</td>\n",
       "      <td>142.0</td>\n",
       "      <td>Upright</td>\n",
       "      <td>64.0</td>\n",
       "      <td>11574.0</td>\n",
       "      <td>44</td>\n",
       "      <td>123</td>\n",
       "      <td>19</td>\n",
       "    </tr>\n",
       "    <tr>\n",
       "      <th>2</th>\n",
       "      <td>m/10</td>\n",
       "      <td>10</td>\n",
       "      <td>A successful, middle-aged Hollywood songwriter...</td>\n",
       "      <td>Blake Edwards' bawdy comedy may not score a pe...</td>\n",
       "      <td>R</td>\n",
       "      <td>Comedy, Romance</td>\n",
       "      <td>Blake Edwards</td>\n",
       "      <td>Blake Edwards</td>\n",
       "      <td>Dudley Moore, Bo Derek, Julie Andrews, Robert ...</td>\n",
       "      <td>1979-10-05</td>\n",
       "      <td>...</td>\n",
       "      <td>Waner Bros.</td>\n",
       "      <td>Fresh</td>\n",
       "      <td>67.0</td>\n",
       "      <td>24.0</td>\n",
       "      <td>Spilled</td>\n",
       "      <td>53.0</td>\n",
       "      <td>14684.0</td>\n",
       "      <td>2</td>\n",
       "      <td>16</td>\n",
       "      <td>8</td>\n",
       "    </tr>\n",
       "    <tr>\n",
       "      <th>3</th>\n",
       "      <td>m/1000013-12_angry_men</td>\n",
       "      <td>12 Angry Men (Twelve Angry Men)</td>\n",
       "      <td>Following the closing arguments in a murder tr...</td>\n",
       "      <td>Sidney Lumet's feature debut is a superbly wri...</td>\n",
       "      <td>NR</td>\n",
       "      <td>Classics, Drama</td>\n",
       "      <td>Sidney Lumet</td>\n",
       "      <td>Reginald Rose</td>\n",
       "      <td>Martin Balsam, John Fiedler, Lee J. Cobb, E.G....</td>\n",
       "      <td>1957-04-13</td>\n",
       "      <td>...</td>\n",
       "      <td>Criterion Collection</td>\n",
       "      <td>Certified-Fresh</td>\n",
       "      <td>100.0</td>\n",
       "      <td>54.0</td>\n",
       "      <td>Upright</td>\n",
       "      <td>97.0</td>\n",
       "      <td>105386.0</td>\n",
       "      <td>6</td>\n",
       "      <td>54</td>\n",
       "      <td>0</td>\n",
       "    </tr>\n",
       "    <tr>\n",
       "      <th>4</th>\n",
       "      <td>m/1000079-20000_leagues_under_the_sea</td>\n",
       "      <td>20,000 Leagues Under The Sea</td>\n",
       "      <td>In 1866, Professor Pierre M. Aronnax (Paul Luk...</td>\n",
       "      <td>One of Disney's finest live-action adventures,...</td>\n",
       "      <td>G</td>\n",
       "      <td>Action &amp; Adventure, Drama, Kids &amp; Family</td>\n",
       "      <td>Richard Fleischer</td>\n",
       "      <td>Earl Felton</td>\n",
       "      <td>James Mason, Kirk Douglas, Paul Lukas, Peter L...</td>\n",
       "      <td>1954-01-01</td>\n",
       "      <td>...</td>\n",
       "      <td>Disney</td>\n",
       "      <td>Fresh</td>\n",
       "      <td>89.0</td>\n",
       "      <td>27.0</td>\n",
       "      <td>Upright</td>\n",
       "      <td>74.0</td>\n",
       "      <td>68918.0</td>\n",
       "      <td>5</td>\n",
       "      <td>24</td>\n",
       "      <td>3</td>\n",
       "    </tr>\n",
       "    <tr>\n",
       "      <th>5</th>\n",
       "      <td>m/10000_bc</td>\n",
       "      <td>10,000 B.C.</td>\n",
       "      <td>Mammoth hunter D'Leh (Steven Strait) has long ...</td>\n",
       "      <td>With attention strictly paid to style instead ...</td>\n",
       "      <td>PG-13</td>\n",
       "      <td>Action &amp; Adventure, Classics, Drama</td>\n",
       "      <td>Roland Emmerich</td>\n",
       "      <td>Harald Kloser, Roland Emmerich</td>\n",
       "      <td>Steven Strait, Camilla Belle, Cliff Curtis, Jo...</td>\n",
       "      <td>2008-03-07</td>\n",
       "      <td>...</td>\n",
       "      <td>Warner Bros. Pictures</td>\n",
       "      <td>Rotten</td>\n",
       "      <td>8.0</td>\n",
       "      <td>149.0</td>\n",
       "      <td>Spilled</td>\n",
       "      <td>37.0</td>\n",
       "      <td>411140.0</td>\n",
       "      <td>37</td>\n",
       "      <td>12</td>\n",
       "      <td>137</td>\n",
       "    </tr>\n",
       "    <tr>\n",
       "      <th>6</th>\n",
       "      <td>m/1000121-39_steps</td>\n",
       "      <td>The 39 Steps</td>\n",
       "      <td>While on vacation in London, Canadian Richard ...</td>\n",
       "      <td>Packed with twists and turns, this essential e...</td>\n",
       "      <td>NR</td>\n",
       "      <td>Action &amp; Adventure, Classics, Mystery &amp; Suspense</td>\n",
       "      <td>Alfred Hitchcock</td>\n",
       "      <td>Alma Reville, Charles Bennett, Ian Hay, Alfred...</td>\n",
       "      <td>Robert Donat, Madeleine Carroll, Godfrey Tearl...</td>\n",
       "      <td>1935-08-01</td>\n",
       "      <td>...</td>\n",
       "      <td>Gaumont British Distributors</td>\n",
       "      <td>Certified-Fresh</td>\n",
       "      <td>96.0</td>\n",
       "      <td>51.0</td>\n",
       "      <td>Upright</td>\n",
       "      <td>86.0</td>\n",
       "      <td>23890.0</td>\n",
       "      <td>8</td>\n",
       "      <td>49</td>\n",
       "      <td>2</td>\n",
       "    </tr>\n",
       "    <tr>\n",
       "      <th>7</th>\n",
       "      <td>m/1000123-310_to_yuma</td>\n",
       "      <td>3:10 to Yuma</td>\n",
       "      <td>Dan Evans (Van Heflin), a drought-plagued Ariz...</td>\n",
       "      <td>NaN</td>\n",
       "      <td>NR</td>\n",
       "      <td>Classics, Drama, Western</td>\n",
       "      <td>Delmer Daves</td>\n",
       "      <td>Halsted Welles</td>\n",
       "      <td>Glenn Ford, Van Heflin, Felicia Farr, Leora Da...</td>\n",
       "      <td>1957-08-07</td>\n",
       "      <td>...</td>\n",
       "      <td>Columbia Pictures</td>\n",
       "      <td>Fresh</td>\n",
       "      <td>96.0</td>\n",
       "      <td>28.0</td>\n",
       "      <td>Upright</td>\n",
       "      <td>79.0</td>\n",
       "      <td>9243.0</td>\n",
       "      <td>6</td>\n",
       "      <td>27</td>\n",
       "      <td>1</td>\n",
       "    </tr>\n",
       "    <tr>\n",
       "      <th>8</th>\n",
       "      <td>m/10002008-charly</td>\n",
       "      <td>Charly (A Heartbeat Away)</td>\n",
       "      <td>Cultural differences, past loves and personal ...</td>\n",
       "      <td>NaN</td>\n",
       "      <td>PG</td>\n",
       "      <td>Comedy, Drama, Romance</td>\n",
       "      <td>Adam Thomas Anderegg</td>\n",
       "      <td>Jack Weyland, Janine Whetton Gilbert</td>\n",
       "      <td>Heather Beers, Gary Neilson, Lisa McCammon, Ja...</td>\n",
       "      <td>2002-09-27</td>\n",
       "      <td>...</td>\n",
       "      <td>Excel Entertainment</td>\n",
       "      <td>Rotten</td>\n",
       "      <td>20.0</td>\n",
       "      <td>10.0</td>\n",
       "      <td>Upright</td>\n",
       "      <td>87.0</td>\n",
       "      <td>4819.0</td>\n",
       "      <td>0</td>\n",
       "      <td>2</td>\n",
       "      <td>8</td>\n",
       "    </tr>\n",
       "    <tr>\n",
       "      <th>9</th>\n",
       "      <td>m/1000204-abraham_lincoln</td>\n",
       "      <td>Abraham Lincoln</td>\n",
       "      <td>The 16th U.S. president (Walter Huston) is por...</td>\n",
       "      <td>NaN</td>\n",
       "      <td>NR</td>\n",
       "      <td>Classics, Drama</td>\n",
       "      <td>D.W. Griffith</td>\n",
       "      <td>Gerrit J. Lloyd, Stephen Vincent Benét</td>\n",
       "      <td>Walter Huston, Una Merkel, Kay Hammond, Ian Ke...</td>\n",
       "      <td>1930-11-08</td>\n",
       "      <td>...</td>\n",
       "      <td>United Artists</td>\n",
       "      <td>Fresh</td>\n",
       "      <td>82.0</td>\n",
       "      <td>11.0</td>\n",
       "      <td>Spilled</td>\n",
       "      <td>40.0</td>\n",
       "      <td>457.0</td>\n",
       "      <td>4</td>\n",
       "      <td>9</td>\n",
       "      <td>2</td>\n",
       "    </tr>\n",
       "  </tbody>\n",
       "</table>\n",
       "<p>10 rows × 22 columns</p>\n",
       "</div>"
      ],
      "text/plain": [
       "                    rotten_tomatoes_link  \\\n",
       "0                              m/0814255   \n",
       "1                              m/0878835   \n",
       "2                                   m/10   \n",
       "3                 m/1000013-12_angry_men   \n",
       "4  m/1000079-20000_leagues_under_the_sea   \n",
       "5                             m/10000_bc   \n",
       "6                     m/1000121-39_steps   \n",
       "7                  m/1000123-310_to_yuma   \n",
       "8                      m/10002008-charly   \n",
       "9              m/1000204-abraham_lincoln   \n",
       "\n",
       "                                         movie_title  \\\n",
       "0  Percy Jackson & the Olympians: The Lightning T...   \n",
       "1                                        Please Give   \n",
       "2                                                 10   \n",
       "3                    12 Angry Men (Twelve Angry Men)   \n",
       "4                       20,000 Leagues Under The Sea   \n",
       "5                                        10,000 B.C.   \n",
       "6                                       The 39 Steps   \n",
       "7                                       3:10 to Yuma   \n",
       "8                          Charly (A Heartbeat Away)   \n",
       "9                                    Abraham Lincoln   \n",
       "\n",
       "                                          movie_info  \\\n",
       "0  Always trouble-prone, the life of teenager Per...   \n",
       "1  Kate (Catherine Keener) and her husband Alex (...   \n",
       "2  A successful, middle-aged Hollywood songwriter...   \n",
       "3  Following the closing arguments in a murder tr...   \n",
       "4  In 1866, Professor Pierre M. Aronnax (Paul Luk...   \n",
       "5  Mammoth hunter D'Leh (Steven Strait) has long ...   \n",
       "6  While on vacation in London, Canadian Richard ...   \n",
       "7  Dan Evans (Van Heflin), a drought-plagued Ariz...   \n",
       "8  Cultural differences, past loves and personal ...   \n",
       "9  The 16th U.S. president (Walter Huston) is por...   \n",
       "\n",
       "                                   critics_consensus content_rating  \\\n",
       "0  Though it may seem like just another Harry Pot...             PG   \n",
       "1  Nicole Holofcener's newest might seem slight i...              R   \n",
       "2  Blake Edwards' bawdy comedy may not score a pe...              R   \n",
       "3  Sidney Lumet's feature debut is a superbly wri...             NR   \n",
       "4  One of Disney's finest live-action adventures,...              G   \n",
       "5  With attention strictly paid to style instead ...          PG-13   \n",
       "6  Packed with twists and turns, this essential e...             NR   \n",
       "7                                                NaN             NR   \n",
       "8                                                NaN             PG   \n",
       "9                                                NaN             NR   \n",
       "\n",
       "                                              genres             directors  \\\n",
       "0  Action & Adventure, Comedy, Drama, Science Fic...        Chris Columbus   \n",
       "1                                             Comedy     Nicole Holofcener   \n",
       "2                                    Comedy, Romance         Blake Edwards   \n",
       "3                                    Classics, Drama          Sidney Lumet   \n",
       "4           Action & Adventure, Drama, Kids & Family     Richard Fleischer   \n",
       "5                Action & Adventure, Classics, Drama       Roland Emmerich   \n",
       "6   Action & Adventure, Classics, Mystery & Suspense      Alfred Hitchcock   \n",
       "7                           Classics, Drama, Western          Delmer Daves   \n",
       "8                             Comedy, Drama, Romance  Adam Thomas Anderegg   \n",
       "9                                    Classics, Drama         D.W. Griffith   \n",
       "\n",
       "                                             authors  \\\n",
       "0         Craig Titley, Chris Columbus, Rick Riordan   \n",
       "1                                  Nicole Holofcener   \n",
       "2                                      Blake Edwards   \n",
       "3                                      Reginald Rose   \n",
       "4                                        Earl Felton   \n",
       "5                     Harald Kloser, Roland Emmerich   \n",
       "6  Alma Reville, Charles Bennett, Ian Hay, Alfred...   \n",
       "7                                     Halsted Welles   \n",
       "8               Jack Weyland, Janine Whetton Gilbert   \n",
       "9             Gerrit J. Lloyd, Stephen Vincent Benét   \n",
       "\n",
       "                                              actors original_release_date  \\\n",
       "0  Logan Lerman, Brandon T. Jackson, Alexandra Da...            2010-02-12   \n",
       "1  Catherine Keener, Amanda Peet, Oliver Platt, R...            2010-04-30   \n",
       "2  Dudley Moore, Bo Derek, Julie Andrews, Robert ...            1979-10-05   \n",
       "3  Martin Balsam, John Fiedler, Lee J. Cobb, E.G....            1957-04-13   \n",
       "4  James Mason, Kirk Douglas, Paul Lukas, Peter L...            1954-01-01   \n",
       "5  Steven Strait, Camilla Belle, Cliff Curtis, Jo...            2008-03-07   \n",
       "6  Robert Donat, Madeleine Carroll, Godfrey Tearl...            1935-08-01   \n",
       "7  Glenn Ford, Van Heflin, Felicia Farr, Leora Da...            1957-08-07   \n",
       "8  Heather Beers, Gary Neilson, Lisa McCammon, Ja...            2002-09-27   \n",
       "9  Walter Huston, Una Merkel, Kay Hammond, Ian Ke...            1930-11-08   \n",
       "\n",
       "   ...            production_company  tomatometer_status tomatometer_rating  \\\n",
       "0  ...              20th Century Fox              Rotten               49.0   \n",
       "1  ...        Sony Pictures Classics     Certified-Fresh               87.0   \n",
       "2  ...                   Waner Bros.               Fresh               67.0   \n",
       "3  ...          Criterion Collection     Certified-Fresh              100.0   \n",
       "4  ...                        Disney               Fresh               89.0   \n",
       "5  ...         Warner Bros. Pictures              Rotten                8.0   \n",
       "6  ...  Gaumont British Distributors     Certified-Fresh               96.0   \n",
       "7  ...             Columbia Pictures               Fresh               96.0   \n",
       "8  ...           Excel Entertainment              Rotten               20.0   \n",
       "9  ...                United Artists               Fresh               82.0   \n",
       "\n",
       "  tomatometer_count  audience_status  audience_rating audience_count  \\\n",
       "0             149.0          Spilled             53.0       254421.0   \n",
       "1             142.0          Upright             64.0        11574.0   \n",
       "2              24.0          Spilled             53.0        14684.0   \n",
       "3              54.0          Upright             97.0       105386.0   \n",
       "4              27.0          Upright             74.0        68918.0   \n",
       "5             149.0          Spilled             37.0       411140.0   \n",
       "6              51.0          Upright             86.0        23890.0   \n",
       "7              28.0          Upright             79.0         9243.0   \n",
       "8              10.0          Upright             87.0         4819.0   \n",
       "9              11.0          Spilled             40.0          457.0   \n",
       "\n",
       "   tomatometer_top_critics_count  tomatometer_fresh_critics_count  \\\n",
       "0                             43                               73   \n",
       "1                             44                              123   \n",
       "2                              2                               16   \n",
       "3                              6                               54   \n",
       "4                              5                               24   \n",
       "5                             37                               12   \n",
       "6                              8                               49   \n",
       "7                              6                               27   \n",
       "8                              0                                2   \n",
       "9                              4                                9   \n",
       "\n",
       "   tomatometer_rotten_critics_count  \n",
       "0                                76  \n",
       "1                                19  \n",
       "2                                 8  \n",
       "3                                 0  \n",
       "4                                 3  \n",
       "5                               137  \n",
       "6                                 2  \n",
       "7                                 1  \n",
       "8                                 8  \n",
       "9                                 2  \n",
       "\n",
       "[10 rows x 22 columns]"
      ]
     },
     "execution_count": 5,
     "metadata": {},
     "output_type": "execute_result"
    }
   ],
   "source": [
    "movies_df.head(10)"
   ]
  },
  {
   "cell_type": "code",
   "execution_count": 6,
   "metadata": {},
   "outputs": [
    {
     "data": {
      "text/html": [
       "<div>\n",
       "<style scoped>\n",
       "    .dataframe tbody tr th:only-of-type {\n",
       "        vertical-align: middle;\n",
       "    }\n",
       "\n",
       "    .dataframe tbody tr th {\n",
       "        vertical-align: top;\n",
       "    }\n",
       "\n",
       "    .dataframe thead th {\n",
       "        text-align: right;\n",
       "    }\n",
       "</style>\n",
       "<table border=\"1\" class=\"dataframe\">\n",
       "  <thead>\n",
       "    <tr style=\"text-align: right;\">\n",
       "      <th></th>\n",
       "      <th>count</th>\n",
       "      <th>unique</th>\n",
       "      <th>top</th>\n",
       "      <th>freq</th>\n",
       "    </tr>\n",
       "  </thead>\n",
       "  <tbody>\n",
       "    <tr>\n",
       "      <th>rotten_tomatoes_link</th>\n",
       "      <td>1130017</td>\n",
       "      <td>17712</td>\n",
       "      <td>m/star_wars_the_rise_of_skywalker</td>\n",
       "      <td>992</td>\n",
       "    </tr>\n",
       "    <tr>\n",
       "      <th>critic_name</th>\n",
       "      <td>1111488</td>\n",
       "      <td>11108</td>\n",
       "      <td>Emanuel Levy</td>\n",
       "      <td>8173</td>\n",
       "    </tr>\n",
       "    <tr>\n",
       "      <th>top_critic</th>\n",
       "      <td>1130017</td>\n",
       "      <td>2</td>\n",
       "      <td>False</td>\n",
       "      <td>841481</td>\n",
       "    </tr>\n",
       "    <tr>\n",
       "      <th>publisher_name</th>\n",
       "      <td>1130017</td>\n",
       "      <td>2230</td>\n",
       "      <td>New York Times</td>\n",
       "      <td>13293</td>\n",
       "    </tr>\n",
       "    <tr>\n",
       "      <th>review_type</th>\n",
       "      <td>1130017</td>\n",
       "      <td>2</td>\n",
       "      <td>Fresh</td>\n",
       "      <td>720210</td>\n",
       "    </tr>\n",
       "    <tr>\n",
       "      <th>review_score</th>\n",
       "      <td>824081</td>\n",
       "      <td>814</td>\n",
       "      <td>3/5</td>\n",
       "      <td>90273</td>\n",
       "    </tr>\n",
       "    <tr>\n",
       "      <th>review_date</th>\n",
       "      <td>1130017</td>\n",
       "      <td>8015</td>\n",
       "      <td>2000-01-01</td>\n",
       "      <td>48019</td>\n",
       "    </tr>\n",
       "    <tr>\n",
       "      <th>review_content</th>\n",
       "      <td>1064211</td>\n",
       "      <td>949181</td>\n",
       "      <td>Parental Content Review</td>\n",
       "      <td>267</td>\n",
       "    </tr>\n",
       "  </tbody>\n",
       "</table>\n",
       "</div>"
      ],
      "text/plain": [
       "                        count  unique                                top  \\\n",
       "rotten_tomatoes_link  1130017   17712  m/star_wars_the_rise_of_skywalker   \n",
       "critic_name           1111488   11108                       Emanuel Levy   \n",
       "top_critic            1130017       2                              False   \n",
       "publisher_name        1130017    2230                     New York Times   \n",
       "review_type           1130017       2                              Fresh   \n",
       "review_score           824081     814                                3/5   \n",
       "review_date           1130017    8015                         2000-01-01   \n",
       "review_content        1064211  949181            Parental Content Review   \n",
       "\n",
       "                        freq  \n",
       "rotten_tomatoes_link     992  \n",
       "critic_name             8173  \n",
       "top_critic            841481  \n",
       "publisher_name         13293  \n",
       "review_type           720210  \n",
       "review_score           90273  \n",
       "review_date            48019  \n",
       "review_content           267  "
      ]
     },
     "execution_count": 6,
     "metadata": {},
     "output_type": "execute_result"
    }
   ],
   "source": [
    "critic_reviews_df.describe().T"
   ]
  },
  {
   "cell_type": "code",
   "execution_count": 7,
   "metadata": {
    "scrolled": true
   },
   "outputs": [
    {
     "name": "stdout",
     "output_type": "stream",
     "text": [
      "<class 'pandas.core.frame.DataFrame'>\n",
      "RangeIndex: 1130017 entries, 0 to 1130016\n",
      "Data columns (total 8 columns):\n",
      " #   Column                Non-Null Count    Dtype \n",
      "---  ------                --------------    ----- \n",
      " 0   rotten_tomatoes_link  1130017 non-null  object\n",
      " 1   critic_name           1111488 non-null  object\n",
      " 2   top_critic            1130017 non-null  bool  \n",
      " 3   publisher_name        1130017 non-null  object\n",
      " 4   review_type           1130017 non-null  object\n",
      " 5   review_score          824081 non-null   object\n",
      " 6   review_date           1130017 non-null  object\n",
      " 7   review_content        1064211 non-null  object\n",
      "dtypes: bool(1), object(7)\n",
      "memory usage: 61.4+ MB\n"
     ]
    }
   ],
   "source": [
    "critic_reviews_df.info()"
   ]
  },
  {
   "cell_type": "code",
   "execution_count": 8,
   "metadata": {},
   "outputs": [
    {
     "data": {
      "text/html": [
       "<div>\n",
       "<style scoped>\n",
       "    .dataframe tbody tr th:only-of-type {\n",
       "        vertical-align: middle;\n",
       "    }\n",
       "\n",
       "    .dataframe tbody tr th {\n",
       "        vertical-align: top;\n",
       "    }\n",
       "\n",
       "    .dataframe thead th {\n",
       "        text-align: right;\n",
       "    }\n",
       "</style>\n",
       "<table border=\"1\" class=\"dataframe\">\n",
       "  <thead>\n",
       "    <tr style=\"text-align: right;\">\n",
       "      <th></th>\n",
       "      <th>count</th>\n",
       "      <th>mean</th>\n",
       "      <th>std</th>\n",
       "      <th>min</th>\n",
       "      <th>25%</th>\n",
       "      <th>50%</th>\n",
       "      <th>75%</th>\n",
       "      <th>max</th>\n",
       "    </tr>\n",
       "  </thead>\n",
       "  <tbody>\n",
       "    <tr>\n",
       "      <th>runtime</th>\n",
       "      <td>17398.0</td>\n",
       "      <td>102.214048</td>\n",
       "      <td>1.870251e+01</td>\n",
       "      <td>5.0</td>\n",
       "      <td>90.0</td>\n",
       "      <td>99.0</td>\n",
       "      <td>111.0</td>\n",
       "      <td>266.0</td>\n",
       "    </tr>\n",
       "    <tr>\n",
       "      <th>tomatometer_rating</th>\n",
       "      <td>17668.0</td>\n",
       "      <td>60.884763</td>\n",
       "      <td>2.844335e+01</td>\n",
       "      <td>0.0</td>\n",
       "      <td>38.0</td>\n",
       "      <td>67.0</td>\n",
       "      <td>86.0</td>\n",
       "      <td>100.0</td>\n",
       "    </tr>\n",
       "    <tr>\n",
       "      <th>tomatometer_count</th>\n",
       "      <td>17668.0</td>\n",
       "      <td>57.139801</td>\n",
       "      <td>6.837005e+01</td>\n",
       "      <td>5.0</td>\n",
       "      <td>12.0</td>\n",
       "      <td>28.0</td>\n",
       "      <td>75.0</td>\n",
       "      <td>574.0</td>\n",
       "    </tr>\n",
       "    <tr>\n",
       "      <th>audience_rating</th>\n",
       "      <td>17416.0</td>\n",
       "      <td>60.554260</td>\n",
       "      <td>2.054337e+01</td>\n",
       "      <td>0.0</td>\n",
       "      <td>45.0</td>\n",
       "      <td>63.0</td>\n",
       "      <td>78.0</td>\n",
       "      <td>100.0</td>\n",
       "    </tr>\n",
       "    <tr>\n",
       "      <th>audience_count</th>\n",
       "      <td>17415.0</td>\n",
       "      <td>143940.068332</td>\n",
       "      <td>1.763577e+06</td>\n",
       "      <td>5.0</td>\n",
       "      <td>707.5</td>\n",
       "      <td>4277.0</td>\n",
       "      <td>24988.0</td>\n",
       "      <td>35797635.0</td>\n",
       "    </tr>\n",
       "    <tr>\n",
       "      <th>tomatometer_top_critics_count</th>\n",
       "      <td>17712.0</td>\n",
       "      <td>14.586326</td>\n",
       "      <td>1.514635e+01</td>\n",
       "      <td>0.0</td>\n",
       "      <td>3.0</td>\n",
       "      <td>8.0</td>\n",
       "      <td>23.0</td>\n",
       "      <td>69.0</td>\n",
       "    </tr>\n",
       "    <tr>\n",
       "      <th>tomatometer_fresh_critics_count</th>\n",
       "      <td>17712.0</td>\n",
       "      <td>36.374831</td>\n",
       "      <td>5.260104e+01</td>\n",
       "      <td>0.0</td>\n",
       "      <td>6.0</td>\n",
       "      <td>16.0</td>\n",
       "      <td>44.0</td>\n",
       "      <td>497.0</td>\n",
       "    </tr>\n",
       "    <tr>\n",
       "      <th>tomatometer_rotten_critics_count</th>\n",
       "      <td>17712.0</td>\n",
       "      <td>20.703139</td>\n",
       "      <td>3.024844e+01</td>\n",
       "      <td>0.0</td>\n",
       "      <td>3.0</td>\n",
       "      <td>8.0</td>\n",
       "      <td>24.0</td>\n",
       "      <td>303.0</td>\n",
       "    </tr>\n",
       "  </tbody>\n",
       "</table>\n",
       "</div>"
      ],
      "text/plain": [
       "                                    count           mean           std  min  \\\n",
       "runtime                           17398.0     102.214048  1.870251e+01  5.0   \n",
       "tomatometer_rating                17668.0      60.884763  2.844335e+01  0.0   \n",
       "tomatometer_count                 17668.0      57.139801  6.837005e+01  5.0   \n",
       "audience_rating                   17416.0      60.554260  2.054337e+01  0.0   \n",
       "audience_count                    17415.0  143940.068332  1.763577e+06  5.0   \n",
       "tomatometer_top_critics_count     17712.0      14.586326  1.514635e+01  0.0   \n",
       "tomatometer_fresh_critics_count   17712.0      36.374831  5.260104e+01  0.0   \n",
       "tomatometer_rotten_critics_count  17712.0      20.703139  3.024844e+01  0.0   \n",
       "\n",
       "                                    25%     50%      75%         max  \n",
       "runtime                            90.0    99.0    111.0       266.0  \n",
       "tomatometer_rating                 38.0    67.0     86.0       100.0  \n",
       "tomatometer_count                  12.0    28.0     75.0       574.0  \n",
       "audience_rating                    45.0    63.0     78.0       100.0  \n",
       "audience_count                    707.5  4277.0  24988.0  35797635.0  \n",
       "tomatometer_top_critics_count       3.0     8.0     23.0        69.0  \n",
       "tomatometer_fresh_critics_count     6.0    16.0     44.0       497.0  \n",
       "tomatometer_rotten_critics_count    3.0     8.0     24.0       303.0  "
      ]
     },
     "execution_count": 8,
     "metadata": {},
     "output_type": "execute_result"
    }
   ],
   "source": [
    "movies_df.describe().T"
   ]
  },
  {
   "cell_type": "code",
   "execution_count": 9,
   "metadata": {},
   "outputs": [
    {
     "name": "stdout",
     "output_type": "stream",
     "text": [
      "<class 'pandas.core.frame.DataFrame'>\n",
      "RangeIndex: 17712 entries, 0 to 17711\n",
      "Data columns (total 22 columns):\n",
      " #   Column                            Non-Null Count  Dtype  \n",
      "---  ------                            --------------  -----  \n",
      " 0   rotten_tomatoes_link              17712 non-null  object \n",
      " 1   movie_title                       17712 non-null  object \n",
      " 2   movie_info                        17391 non-null  object \n",
      " 3   critics_consensus                 9134 non-null   object \n",
      " 4   content_rating                    17712 non-null  object \n",
      " 5   genres                            17693 non-null  object \n",
      " 6   directors                         17518 non-null  object \n",
      " 7   authors                           16170 non-null  object \n",
      " 8   actors                            17360 non-null  object \n",
      " 9   original_release_date             16546 non-null  object \n",
      " 10  streaming_release_date            17328 non-null  object \n",
      " 11  runtime                           17398 non-null  float64\n",
      " 12  production_company                17213 non-null  object \n",
      " 13  tomatometer_status                17668 non-null  object \n",
      " 14  tomatometer_rating                17668 non-null  float64\n",
      " 15  tomatometer_count                 17668 non-null  float64\n",
      " 16  audience_status                   17264 non-null  object \n",
      " 17  audience_rating                   17416 non-null  float64\n",
      " 18  audience_count                    17415 non-null  float64\n",
      " 19  tomatometer_top_critics_count     17712 non-null  int64  \n",
      " 20  tomatometer_fresh_critics_count   17712 non-null  int64  \n",
      " 21  tomatometer_rotten_critics_count  17712 non-null  int64  \n",
      "dtypes: float64(5), int64(3), object(14)\n",
      "memory usage: 3.0+ MB\n"
     ]
    }
   ],
   "source": [
    "movies_df.info()"
   ]
  },
  {
   "cell_type": "code",
   "execution_count": 10,
   "metadata": {},
   "outputs": [
    {
     "data": {
      "text/plain": [
       "Index(['rotten_tomatoes_link', 'critic_name', 'top_critic', 'publisher_name',\n",
       "       'review_type', 'review_score', 'review_date', 'review_content'],\n",
       "      dtype='object')"
      ]
     },
     "execution_count": 10,
     "metadata": {},
     "output_type": "execute_result"
    }
   ],
   "source": [
    "critic_reviews_df.columns"
   ]
  },
  {
   "cell_type": "code",
   "execution_count": 11,
   "metadata": {},
   "outputs": [
    {
     "data": {
      "image/png": "[encoded data removed]",
      "text/plain": [
       "<Figure size 640x480 with 1 Axes>"
      ]
     },
     "metadata": {},
     "output_type": "display_data"
    }
   ],
   "source": [
    "critic_reviews_df.critic_name.value_counts().plot.hist(alpha=.7, bins=50)\n",
    "plt.show()"
   ]
  },
  {
   "cell_type": "code",
   "execution_count": 12,
   "metadata": {},
   "outputs": [
    {
     "data": {
      "image/png": "[encoded data removed]",
      "text/plain": [
       "<Figure size 640x480 with 1 Axes>"
      ]
     },
     "metadata": {},
     "output_type": "display_data"
    }
   ],
   "source": [
    "critic_reviews_df.top_critic.value_counts().plot.pie()\n",
    "plt.show()"
   ]
  },
  {
   "cell_type": "code",
   "execution_count": 13,
   "metadata": {},
   "outputs": [
    {
     "data": {
      "image/png": "[encoded data removed]",
      "text/plain": [
       "<Figure size 640x480 with 1 Axes>"
      ]
     },
     "metadata": {},
     "output_type": "display_data"
    }
   ],
   "source": [
    "critic_reviews_df.publisher_name.value_counts().plot.hist(alpha=.7, bins=50)\n",
    "plt.show()"
   ]
  },
  {
   "cell_type": "code",
   "execution_count": 14,
   "metadata": {},
   "outputs": [
    {
     "data": {
      "image/png": "[encoded data removed]",
      "text/plain": [
       "<Figure size 640x480 with 1 Axes>"
      ]
     },
     "metadata": {},
     "output_type": "display_data"
    }
   ],
   "source": [
    "critic_reviews_df.review_type.value_counts().plot.pie()\n",
    "plt.show()"
   ]
  },
  {
   "cell_type": "code",
   "execution_count": 15,
   "metadata": {},
   "outputs": [
    {
     "data": {
      "image/png": "[encoded data removed]",
      "text/plain": [
       "<Figure size 640x480 with 1 Axes>"
      ]
     },
     "metadata": {},
     "output_type": "display_data"
    }
   ],
   "source": [
    "critic_reviews_df.review_score.value_counts().plot.hist(alpha=.7)\n",
    "plt.show()"
   ]
  },
  {
   "cell_type": "code",
   "execution_count": 16,
   "metadata": {},
   "outputs": [
    {
     "data": {
      "image/png": "[encoded data removed]",
      "text/plain": [
       "<Figure size 640x480 with 1 Axes>"
      ]
     },
     "metadata": {},
     "output_type": "display_data"
    }
   ],
   "source": [
    "critic_reviews_df.review_content.str.len().value_counts().hist(alpha=.7, edgecolor='white')\n",
    "plt.show()"
   ]
  },
  {
   "cell_type": "code",
   "execution_count": 17,
   "metadata": {},
   "outputs": [
    {
     "data": {
      "text/plain": [
       "Index(['rotten_tomatoes_link', 'movie_title', 'movie_info',\n",
       "       'critics_consensus', 'content_rating', 'genres', 'directors', 'authors',\n",
       "       'actors', 'original_release_date', 'streaming_release_date', 'runtime',\n",
       "       'production_company', 'tomatometer_status', 'tomatometer_rating',\n",
       "       'tomatometer_count', 'audience_status', 'audience_rating',\n",
       "       'audience_count', 'tomatometer_top_critics_count',\n",
       "       'tomatometer_fresh_critics_count', 'tomatometer_rotten_critics_count'],\n",
       "      dtype='object')"
      ]
     },
     "execution_count": 17,
     "metadata": {},
     "output_type": "execute_result"
    }
   ],
   "source": [
    "movies_df.columns"
   ]
  },
  {
   "cell_type": "code",
   "execution_count": 18,
   "metadata": {},
   "outputs": [
    {
     "data": {
      "text/plain": [
       "(1130017, 17712)"
      ]
     },
     "execution_count": 18,
     "metadata": {},
     "output_type": "execute_result"
    }
   ],
   "source": [
    "len(critic_reviews_df), len(movies_df)"
   ]
  },
  {
   "cell_type": "code",
   "execution_count": 19,
   "metadata": {},
   "outputs": [
    {
     "data": {
      "image/png": "[encoded data removed]",
      "text/plain": [
       "<Figure size 640x480 with 1 Axes>"
      ]
     },
     "metadata": {},
     "output_type": "display_data"
    }
   ],
   "source": [
    "movies_df.movie_title.value_counts().hist(alpha=.7)\n",
    "plt.show()"
   ]
  },
  {
   "cell_type": "code",
   "execution_count": 20,
   "metadata": {},
   "outputs": [
    {
     "data": {
      "image/png": "[encoded data removed]",
      "text/plain": [
       "<Figure size 640x480 with 1 Axes>"
      ]
     },
     "metadata": {},
     "output_type": "display_data"
    }
   ],
   "source": [
    "movies_df.movie_info.str.len().value_counts().plot.hist(alpha=.7, edgecolor='white')\n",
    "plt.show()"
   ]
  },
  {
   "cell_type": "code",
   "execution_count": 21,
   "metadata": {},
   "outputs": [
    {
     "data": {
      "image/png": "[encoded data removed]",
      "text/plain": [
       "<Figure size 640x480 with 1 Axes>"
      ]
     },
     "metadata": {},
     "output_type": "display_data"
    }
   ],
   "source": [
    "movies_df.critics_consensus.str.len().value_counts().plot.hist(alpha=.7, edgecolor='white')\n",
    "plt.show()"
   ]
  },
  {
   "cell_type": "code",
   "execution_count": 22,
   "metadata": {},
   "outputs": [
    {
     "data": {
      "image/png": "[encoded data removed]",
      "text/plain": [
       "<Figure size 640x480 with 1 Axes>"
      ]
     },
     "metadata": {},
     "output_type": "display_data"
    }
   ],
   "source": [
    "movies_df.content_rating.value_counts().sort_values().plot.pie()\n",
    "plt.show()"
   ]
  },
  {
   "cell_type": "markdown",
   "metadata": {},
   "source": [
    "### Recommandation"
   ]
  },
  {
   "cell_type": "code",
   "execution_count": 23,
   "metadata": {},
   "outputs": [
    {
     "data": {
      "text/plain": [
       "publisher_name\n",
       "1428 Elm                                        [3.5/4, 4/4, 3.5/5, 2.5/4]\n",
       "1More Film Blog          [3/4, 3.5/5, 4/5, 3/5, 2.5/5, 2/5, 1.5/4, 2.5/...\n",
       "2 Minute Telly                                                  [3/5, 4/5]\n",
       "24 Horas                                                           [4.5/5]\n",
       "25YL (25 Years Later)                            [5/5, 4/5, 3/5, 1/5, 2/5]\n",
       "                                               ...                        \n",
       "tonymedley.com           [3/10, 4/5, 7/10, 0/10, 8/10, 9/10, 5/10, 10/1...\n",
       "vocalo.org                                   [4/4, 2.5/4, 3/4, 2/4, 3.5/4]\n",
       "www.kcactive.com                            [4/5, 3/5, 1/5, 2/5, 5/5, 0/5]\n",
       "www.susangranger.com     [5/5, 7/10, 6/10, 5/10, 2/5, 4/5, 3/5, 3/10, 8...\n",
       "ÜberCiné                                   [4/5, 1/5, 2/5, 5/5, 3/5, 9/10]\n",
       "Name: review_score, Length: 1635, dtype: object"
      ]
     },
     "execution_count": 23,
     "metadata": {},
     "output_type": "execute_result"
    }
   ],
   "source": [
    "critic_reviews_ratings_df = critic_reviews_df[\n",
    "    ['rotten_tomatoes_link', 'critic_name', 'publisher_name', 'review_score']]\n",
    "critic_reviews_ratings_df = critic_reviews_ratings_df.dropna(axis=0)\n",
    "critic_reviews_ratings_df[['publisher_name', 'review_score']].groupby('publisher_name')['review_score'].unique()"
   ]
  },
  {
   "cell_type": "code",
   "execution_count": 24,
   "metadata": {},
   "outputs": [
    {
     "name": "stdout",
     "output_type": "stream",
     "text": [
      "809510\n"
     ]
    },
    {
     "data": {
      "text/html": [
       "<div>\n",
       "<style scoped>\n",
       "    .dataframe tbody tr th:only-of-type {\n",
       "        vertical-align: middle;\n",
       "    }\n",
       "\n",
       "    .dataframe tbody tr th {\n",
       "        vertical-align: top;\n",
       "    }\n",
       "\n",
       "    .dataframe thead th {\n",
       "        text-align: right;\n",
       "    }\n",
       "</style>\n",
       "<table border=\"1\" class=\"dataframe\">\n",
       "  <thead>\n",
       "    <tr style=\"text-align: right;\">\n",
       "      <th></th>\n",
       "      <th>rotten_tomatoes_link</th>\n",
       "      <th>critic_name</th>\n",
       "      <th>review_score</th>\n",
       "    </tr>\n",
       "  </thead>\n",
       "  <tbody>\n",
       "    <tr>\n",
       "      <th>0</th>\n",
       "      <td>m/0814255</td>\n",
       "      <td>Ben McEachen</td>\n",
       "      <td>3.5/5</td>\n",
       "    </tr>\n",
       "    <tr>\n",
       "      <th>1</th>\n",
       "      <td>m/0814255</td>\n",
       "      <td>Nick Schager</td>\n",
       "      <td>1/4</td>\n",
       "    </tr>\n",
       "    <tr>\n",
       "      <th>2</th>\n",
       "      <td>m/0814255</td>\n",
       "      <td>Bill Goodykoontz</td>\n",
       "      <td>3.5/5</td>\n",
       "    </tr>\n",
       "    <tr>\n",
       "      <th>3</th>\n",
       "      <td>m/0814255</td>\n",
       "      <td>Jordan Hoffman</td>\n",
       "      <td>B</td>\n",
       "    </tr>\n",
       "    <tr>\n",
       "      <th>4</th>\n",
       "      <td>m/0814255</td>\n",
       "      <td>Jim Schembri</td>\n",
       "      <td>3/5</td>\n",
       "    </tr>\n",
       "    <tr>\n",
       "      <th>5</th>\n",
       "      <td>m/0814255</td>\n",
       "      <td>Mark Adams</td>\n",
       "      <td>4/5</td>\n",
       "    </tr>\n",
       "    <tr>\n",
       "      <th>6</th>\n",
       "      <td>m/0814255</td>\n",
       "      <td>Roger Moore</td>\n",
       "      <td>2/4</td>\n",
       "    </tr>\n",
       "    <tr>\n",
       "      <th>7</th>\n",
       "      <td>m/0814255</td>\n",
       "      <td>David Jenkins</td>\n",
       "      <td>2/5</td>\n",
       "    </tr>\n",
       "    <tr>\n",
       "      <th>8</th>\n",
       "      <td>m/0814255</td>\n",
       "      <td>Joshua Tyler</td>\n",
       "      <td>3/5</td>\n",
       "    </tr>\n",
       "    <tr>\n",
       "      <th>9</th>\n",
       "      <td>m/0814255</td>\n",
       "      <td>Peter Paras</td>\n",
       "      <td>C</td>\n",
       "    </tr>\n",
       "  </tbody>\n",
       "</table>\n",
       "</div>"
      ],
      "text/plain": [
       "  rotten_tomatoes_link       critic_name review_score\n",
       "0            m/0814255      Ben McEachen        3.5/5\n",
       "1            m/0814255      Nick Schager          1/4\n",
       "2            m/0814255  Bill Goodykoontz        3.5/5\n",
       "3            m/0814255    Jordan Hoffman            B\n",
       "4            m/0814255      Jim Schembri          3/5\n",
       "5            m/0814255        Mark Adams          4/5\n",
       "6            m/0814255       Roger Moore          2/4\n",
       "7            m/0814255     David Jenkins          2/5\n",
       "8            m/0814255      Joshua Tyler          3/5\n",
       "9            m/0814255       Peter Paras            C"
      ]
     },
     "execution_count": 24,
     "metadata": {},
     "output_type": "execute_result"
    }
   ],
   "source": [
    "ratings_df = pd.merge(movies_df['rotten_tomatoes_link'],\n",
    "                    critic_reviews_ratings_df[['rotten_tomatoes_link', 'critic_name', 'review_score']],\n",
    "                    on='rotten_tomatoes_link')\n",
    "print(len(ratings_df))\n",
    "ratings_df.head(10)"
   ]
  },
  {
   "cell_type": "code",
   "execution_count": 75,
   "metadata": {},
   "outputs": [],
   "source": [
    "CINEMA_NOTATION_DICT = {'A+': 5, 'A': 4, 'A-': 3.7, 'B+': 3.3, 'B': 3,\n",
    "        'B-': 2.7, 'C+': 2.3, 'C': 2, 'C-': 1.7, 'D+': 1.3, 'D': 1, 'D-': 0.7, 'F': 0}\n",
    "\n",
    "def cinema_score(notation):\n",
    "    return CINEMA_NOTATION_DICT.get(notationtion, None)"
   ]
  },
  {
   "cell_type": "code",
   "execution_count": 26,
   "metadata": {},
   "outputs": [],
   "source": [
    "def to_rating(s):\n",
    "    try: \n",
    "        nd = s.split('/')\n",
    "        if len(nd) == 2:\n",
    "            n, d = nd\n",
    "            n = float(n)\n",
    "            d = float(d)\n",
    "            v = 5*n/d\n",
    "            if v > 5:\n",
    "                return None\n",
    "            return v\n",
    "        if s[0].upper() in 'ABCDF':\n",
    "            return cinema_score(s.strip())\n",
    "        return None\n",
    "    except: \n",
    "        #print(s)\n",
    "        return None"
   ]
  },
  {
   "cell_type": "code",
   "execution_count": 27,
   "metadata": {},
   "outputs": [],
   "source": [
    "ratings_df['review_score'] = ratings_df['review_score'].apply(to_int)"
   ]
  },
  {
   "cell_type": "code",
   "execution_count": 28,
   "metadata": {},
   "outputs": [],
   "source": [
    "drop_index = ratings_df[ratings_df['review_score'] == -1].index\n",
    "ratings_df.drop(drop_index, inplace=True)"
   ]
  },
  {
   "cell_type": "code",
   "execution_count": 29,
   "metadata": {},
   "outputs": [
    {
     "data": {
      "text/plain": [
       "807867"
      ]
     },
     "execution_count": 29,
     "metadata": {},
     "output_type": "execute_result"
    }
   ],
   "source": [
    "len(ratings_df)"
   ]
  },
  {
   "cell_type": "code",
   "execution_count": 30,
   "metadata": {},
   "outputs": [
    {
     "data": {
      "text/html": [
       "<div>\n",
       "<style scoped>\n",
       "    .dataframe tbody tr th:only-of-type {\n",
       "        vertical-align: middle;\n",
       "    }\n",
       "\n",
       "    .dataframe tbody tr th {\n",
       "        vertical-align: top;\n",
       "    }\n",
       "\n",
       "    .dataframe thead th {\n",
       "        text-align: right;\n",
       "    }\n",
       "</style>\n",
       "<table border=\"1\" class=\"dataframe\">\n",
       "  <thead>\n",
       "    <tr style=\"text-align: right;\">\n",
       "      <th></th>\n",
       "      <th>rotten_tomatoes_link</th>\n",
       "      <th>critic_name</th>\n",
       "      <th>review_score</th>\n",
       "    </tr>\n",
       "  </thead>\n",
       "  <tbody>\n",
       "    <tr>\n",
       "      <th>0</th>\n",
       "      <td>m/0814255</td>\n",
       "      <td>Ben McEachen</td>\n",
       "      <td>3.50</td>\n",
       "    </tr>\n",
       "    <tr>\n",
       "      <th>1</th>\n",
       "      <td>m/0814255</td>\n",
       "      <td>Nick Schager</td>\n",
       "      <td>1.25</td>\n",
       "    </tr>\n",
       "    <tr>\n",
       "      <th>2</th>\n",
       "      <td>m/0814255</td>\n",
       "      <td>Bill Goodykoontz</td>\n",
       "      <td>3.50</td>\n",
       "    </tr>\n",
       "    <tr>\n",
       "      <th>3</th>\n",
       "      <td>m/0814255</td>\n",
       "      <td>Jordan Hoffman</td>\n",
       "      <td>2.00</td>\n",
       "    </tr>\n",
       "    <tr>\n",
       "      <th>4</th>\n",
       "      <td>m/0814255</td>\n",
       "      <td>Jim Schembri</td>\n",
       "      <td>3.00</td>\n",
       "    </tr>\n",
       "    <tr>\n",
       "      <th>5</th>\n",
       "      <td>m/0814255</td>\n",
       "      <td>Mark Adams</td>\n",
       "      <td>4.00</td>\n",
       "    </tr>\n",
       "    <tr>\n",
       "      <th>6</th>\n",
       "      <td>m/0814255</td>\n",
       "      <td>Roger Moore</td>\n",
       "      <td>2.50</td>\n",
       "    </tr>\n",
       "    <tr>\n",
       "      <th>7</th>\n",
       "      <td>m/0814255</td>\n",
       "      <td>David Jenkins</td>\n",
       "      <td>2.00</td>\n",
       "    </tr>\n",
       "    <tr>\n",
       "      <th>8</th>\n",
       "      <td>m/0814255</td>\n",
       "      <td>Joshua Tyler</td>\n",
       "      <td>3.00</td>\n",
       "    </tr>\n",
       "    <tr>\n",
       "      <th>9</th>\n",
       "      <td>m/0814255</td>\n",
       "      <td>Peter Paras</td>\n",
       "      <td>3.00</td>\n",
       "    </tr>\n",
       "  </tbody>\n",
       "</table>\n",
       "</div>"
      ],
      "text/plain": [
       "  rotten_tomatoes_link       critic_name  review_score\n",
       "0            m/0814255      Ben McEachen          3.50\n",
       "1            m/0814255      Nick Schager          1.25\n",
       "2            m/0814255  Bill Goodykoontz          3.50\n",
       "3            m/0814255    Jordan Hoffman          2.00\n",
       "4            m/0814255      Jim Schembri          3.00\n",
       "5            m/0814255        Mark Adams          4.00\n",
       "6            m/0814255       Roger Moore          2.50\n",
       "7            m/0814255     David Jenkins          2.00\n",
       "8            m/0814255      Joshua Tyler          3.00\n",
       "9            m/0814255       Peter Paras          3.00"
      ]
     },
     "execution_count": 30,
     "metadata": {},
     "output_type": "execute_result"
    }
   ],
   "source": [
    "ratings_df.head(10)"
   ]
  },
  {
   "cell_type": "code",
   "execution_count": 31,
   "metadata": {
    "scrolled": true
   },
   "outputs": [
    {
     "data": {
      "text/html": [
       "<div>\n",
       "<style scoped>\n",
       "    .dataframe tbody tr th:only-of-type {\n",
       "        vertical-align: middle;\n",
       "    }\n",
       "\n",
       "    .dataframe tbody tr th {\n",
       "        vertical-align: top;\n",
       "    }\n",
       "\n",
       "    .dataframe thead th {\n",
       "        text-align: right;\n",
       "    }\n",
       "</style>\n",
       "<table border=\"1\" class=\"dataframe\">\n",
       "  <thead>\n",
       "    <tr style=\"text-align: right;\">\n",
       "      <th></th>\n",
       "      <th>movie</th>\n",
       "      <th>user</th>\n",
       "      <th>rating</th>\n",
       "    </tr>\n",
       "  </thead>\n",
       "  <tbody>\n",
       "    <tr>\n",
       "      <th>0</th>\n",
       "      <td>m/0814255</td>\n",
       "      <td>Ben McEachen</td>\n",
       "      <td>3.50</td>\n",
       "    </tr>\n",
       "    <tr>\n",
       "      <th>1</th>\n",
       "      <td>m/0814255</td>\n",
       "      <td>Nick Schager</td>\n",
       "      <td>1.25</td>\n",
       "    </tr>\n",
       "    <tr>\n",
       "      <th>2</th>\n",
       "      <td>m/0814255</td>\n",
       "      <td>Bill Goodykoontz</td>\n",
       "      <td>3.50</td>\n",
       "    </tr>\n",
       "    <tr>\n",
       "      <th>3</th>\n",
       "      <td>m/0814255</td>\n",
       "      <td>Jordan Hoffman</td>\n",
       "      <td>2.00</td>\n",
       "    </tr>\n",
       "    <tr>\n",
       "      <th>4</th>\n",
       "      <td>m/0814255</td>\n",
       "      <td>Jim Schembri</td>\n",
       "      <td>3.00</td>\n",
       "    </tr>\n",
       "    <tr>\n",
       "      <th>5</th>\n",
       "      <td>m/0814255</td>\n",
       "      <td>Mark Adams</td>\n",
       "      <td>4.00</td>\n",
       "    </tr>\n",
       "    <tr>\n",
       "      <th>6</th>\n",
       "      <td>m/0814255</td>\n",
       "      <td>Roger Moore</td>\n",
       "      <td>2.50</td>\n",
       "    </tr>\n",
       "    <tr>\n",
       "      <th>7</th>\n",
       "      <td>m/0814255</td>\n",
       "      <td>David Jenkins</td>\n",
       "      <td>2.00</td>\n",
       "    </tr>\n",
       "    <tr>\n",
       "      <th>8</th>\n",
       "      <td>m/0814255</td>\n",
       "      <td>Joshua Tyler</td>\n",
       "      <td>3.00</td>\n",
       "    </tr>\n",
       "    <tr>\n",
       "      <th>9</th>\n",
       "      <td>m/0814255</td>\n",
       "      <td>Peter Paras</td>\n",
       "      <td>3.00</td>\n",
       "    </tr>\n",
       "  </tbody>\n",
       "</table>\n",
       "</div>"
      ],
      "text/plain": [
       "       movie              user  rating\n",
       "0  m/0814255      Ben McEachen    3.50\n",
       "1  m/0814255      Nick Schager    1.25\n",
       "2  m/0814255  Bill Goodykoontz    3.50\n",
       "3  m/0814255    Jordan Hoffman    2.00\n",
       "4  m/0814255      Jim Schembri    3.00\n",
       "5  m/0814255        Mark Adams    4.00\n",
       "6  m/0814255       Roger Moore    2.50\n",
       "7  m/0814255     David Jenkins    2.00\n",
       "8  m/0814255      Joshua Tyler    3.00\n",
       "9  m/0814255       Peter Paras    3.00"
      ]
     },
     "execution_count": 31,
     "metadata": {},
     "output_type": "execute_result"
    }
   ],
   "source": [
    "ratings_df = ratings_df.rename({'rotten_tomatoes_link': 'movie', 'critic_name': 'user', 'review_score': 'rating'}, axis=1)\n",
    "ratings_df.head(10)"
   ]
  },
  {
   "cell_type": "markdown",
   "metadata": {},
   "source": [
    "#### Stats"
   ]
  },
  {
   "cell_type": "code",
   "execution_count": 32,
   "metadata": {},
   "outputs": [
    {
     "name": "stdout",
     "output_type": "stream",
     "text": [
      "There are 6884 users and 17666 movies\n"
     ]
    }
   ],
   "source": [
    "num_users = ratings_df[\"user\"].nunique()\n",
    "num_items = ratings_df[\"movie\"].nunique()\n",
    "\n",
    "print(f'There are {num_users} users and {num_items} movies')"
   ]
  },
  {
   "cell_type": "code",
   "execution_count": 33,
   "metadata": {},
   "outputs": [
    {
     "name": "stdout",
     "output_type": "stream",
     "text": [
      "Rating matrix is only 0.6642946893789354% full\n"
     ]
    }
   ],
   "source": [
    "sparsity = (len(ratings_df)/(num_users*num_items))*100\n",
    "print(f'Rating matrix is only {sparsity}% full')"
   ]
  },
  {
   "cell_type": "code",
   "execution_count": 34,
   "metadata": {},
   "outputs": [
    {
     "data": {
      "text/plain": [
       "count    807867.000000\n",
       "mean          3.027452\n",
       "std           1.080823\n",
       "min           0.000000\n",
       "25%           2.000000\n",
       "50%           3.000000\n",
       "75%           4.000000\n",
       "max           5.000000\n",
       "Name: rating, dtype: float64"
      ]
     },
     "execution_count": 34,
     "metadata": {},
     "output_type": "execute_result"
    }
   ],
   "source": [
    "ratings_df['rating'].describe()"
   ]
  },
  {
   "cell_type": "code",
   "execution_count": 35,
   "metadata": {},
   "outputs": [
    {
     "data": {
      "image/png": "[encoded data removed]",
      "text/plain": [
       "<Figure size 640x480 with 1 Axes>"
      ]
     },
     "metadata": {},
     "output_type": "display_data"
    }
   ],
   "source": [
    "sns.distplot(ratings_df[\"rating\"], bins=5)\n",
    "plt.show()"
   ]
  },
  {
   "cell_type": "code",
   "execution_count": 36,
   "metadata": {},
   "outputs": [
    {
     "data": {
      "image/png": "[encoded data removed]",
      "text/plain": [
       "<Figure size 640x480 with 1 Axes>"
      ]
     },
     "metadata": {},
     "output_type": "display_data"
    }
   ],
   "source": [
    "sns.distplot(ratings_df.groupby('user')[\"rating\"].mean(),bins=5)\n",
    "plt.show()"
   ]
  },
  {
   "cell_type": "code",
   "execution_count": 37,
   "metadata": {},
   "outputs": [
    {
     "data": {
      "image/png": "[encoded data removed]",
      "text/plain": [
       "<Figure size 640x480 with 1 Axes>"
      ]
     },
     "metadata": {},
     "output_type": "display_data"
    }
   ],
   "source": [
    "sns.distplot(ratings_df.groupby('movie')[\"rating\"].mean(),bins=5)\n",
    "plt.show()"
   ]
  },
  {
   "cell_type": "markdown",
   "metadata": {},
   "source": [
    "#### Train/test"
   ]
  },
  {
   "cell_type": "code",
   "execution_count": 38,
   "metadata": {},
   "outputs": [],
   "source": [
    "def train_test_ratings(ratings):\n",
    "    train_indexes, test_indexes = [],[]\n",
    "\n",
    "    for index in range(len(ratings)):\n",
    "        if index%5 == 0:\n",
    "            test_indexes.append(index)\n",
    "        else:\n",
    "            train_indexes.append(index)\n",
    "\n",
    "    train_ratings = ratings.iloc[train_indexes].copy()\n",
    "    test_ratings = ratings.iloc[test_indexes].copy()\n",
    "    \n",
    "    return train_ratings, test_ratings"
   ]
  },
  {
   "cell_type": "code",
   "execution_count": 39,
   "metadata": {},
   "outputs": [],
   "source": [
    "train_ratings_df, test_ratings_df = train_test_ratings(ratings_df)"
   ]
  },
  {
   "cell_type": "markdown",
   "metadata": {},
   "source": [
    "#### Global training mean, user means and item means"
   ]
  },
  {
   "cell_type": "code",
   "execution_count": 40,
   "metadata": {},
   "outputs": [],
   "source": [
    "MEAN = train_ratings_df[\"rating\"].mean()\n",
    "USER_MEANS = train_ratings_df.groupby(\"user\")[\"rating\"].mean()\n",
    "ITEM_MEANS = train_ratings_df.groupby(\"movie\")[\"rating\"].mean()\n",
    "\n",
    "def mean_rating_pred(user_item):\n",
    "    return MEAN\n",
    "\n",
    "def user_mean_rating_pred(user_item):\n",
    "    user = user_item[\"user\"]\n",
    "    return USER_MEANS[user] if user in USER_MEANS.index else MEAN\n",
    "\n",
    "def item_mean_rating_pred(user_item):\n",
    "    item = user_item[\"movie\"]\n",
    "    return ITEM_MEANS[item] if item in ITEM_MEANS.index else MEAN"
   ]
  },
  {
   "cell_type": "markdown",
   "metadata": {},
   "source": [
    "#### Test mean predictions"
   ]
  },
  {
   "cell_type": "code",
   "execution_count": 41,
   "metadata": {},
   "outputs": [
    {
     "data": {
      "text/html": [
       "<div>\n",
       "<style scoped>\n",
       "    .dataframe tbody tr th:only-of-type {\n",
       "        vertical-align: middle;\n",
       "    }\n",
       "\n",
       "    .dataframe tbody tr th {\n",
       "        vertical-align: top;\n",
       "    }\n",
       "\n",
       "    .dataframe thead th {\n",
       "        text-align: right;\n",
       "    }\n",
       "</style>\n",
       "<table border=\"1\" class=\"dataframe\">\n",
       "  <thead>\n",
       "    <tr style=\"text-align: right;\">\n",
       "      <th></th>\n",
       "      <th>movie</th>\n",
       "      <th>user</th>\n",
       "      <th>rating</th>\n",
       "      <th>mean_prediction</th>\n",
       "      <th>muser_prediction</th>\n",
       "      <th>mitem_prediction</th>\n",
       "    </tr>\n",
       "  </thead>\n",
       "  <tbody>\n",
       "    <tr>\n",
       "      <th>0</th>\n",
       "      <td>m/0814255</td>\n",
       "      <td>Ben McEachen</td>\n",
       "      <td>3.50</td>\n",
       "      <td>3.027516</td>\n",
       "      <td>3.151316</td>\n",
       "      <td>2.735677</td>\n",
       "    </tr>\n",
       "    <tr>\n",
       "      <th>5</th>\n",
       "      <td>m/0814255</td>\n",
       "      <td>Mark Adams</td>\n",
       "      <td>4.00</td>\n",
       "      <td>3.027516</td>\n",
       "      <td>3.427481</td>\n",
       "      <td>2.735677</td>\n",
       "    </tr>\n",
       "    <tr>\n",
       "      <th>10</th>\n",
       "      <td>m/0814255</td>\n",
       "      <td>Vic Holtreman</td>\n",
       "      <td>3.50</td>\n",
       "      <td>3.027516</td>\n",
       "      <td>3.438144</td>\n",
       "      <td>2.735677</td>\n",
       "    </tr>\n",
       "    <tr>\n",
       "      <th>15</th>\n",
       "      <td>m/0814255</td>\n",
       "      <td>Jeffrey M. Anderson</td>\n",
       "      <td>1.25</td>\n",
       "      <td>3.027516</td>\n",
       "      <td>3.442428</td>\n",
       "      <td>2.735677</td>\n",
       "    </tr>\n",
       "    <tr>\n",
       "      <th>20</th>\n",
       "      <td>m/0814255</td>\n",
       "      <td>Stephen Whitty</td>\n",
       "      <td>3.75</td>\n",
       "      <td>3.027516</td>\n",
       "      <td>3.086436</td>\n",
       "      <td>2.735677</td>\n",
       "    </tr>\n",
       "  </tbody>\n",
       "</table>\n",
       "</div>"
      ],
      "text/plain": [
       "        movie                 user  rating  mean_prediction  muser_prediction  \\\n",
       "0   m/0814255         Ben McEachen    3.50         3.027516          3.151316   \n",
       "5   m/0814255           Mark Adams    4.00         3.027516          3.427481   \n",
       "10  m/0814255        Vic Holtreman    3.50         3.027516          3.438144   \n",
       "15  m/0814255  Jeffrey M. Anderson    1.25         3.027516          3.442428   \n",
       "20  m/0814255       Stephen Whitty    3.75         3.027516          3.086436   \n",
       "\n",
       "    mitem_prediction  \n",
       "0           2.735677  \n",
       "5           2.735677  \n",
       "10          2.735677  \n",
       "15          2.735677  \n",
       "20          2.735677  "
      ]
     },
     "execution_count": 41,
     "metadata": {},
     "output_type": "execute_result"
    }
   ],
   "source": [
    "test_ratings_df[\"mean_prediction\"] = test_ratings_df[[\"user\",\"movie\"]].apply(mean_rating_pred,axis=1)\n",
    "test_ratings_df[\"muser_prediction\"] = test_ratings_df[[\"user\",\"movie\"]].apply(user_mean_rating_pred,axis=1) \n",
    "test_ratings_df[\"mitem_prediction\"] = test_ratings_df[[\"user\",\"movie\"]].apply(item_mean_rating_pred,axis=1) \n",
    "\n",
    "test_ratings_df.head(5)"
   ]
  },
  {
   "cell_type": "markdown",
   "metadata": {},
   "source": [
    "#### Métriques"
   ]
  },
  {
   "cell_type": "code",
   "execution_count": 42,
   "metadata": {},
   "outputs": [],
   "source": [
    "def mae(predictions, truth):\n",
    "    return np.mean(np.abs(predictions - truth))\n",
    "\n",
    "def mse(predictions, truth):\n",
    "    return np.mean(np.square(predictions - truth))\n",
    "\n",
    "def rmse(predictions, truth):\n",
    "    return np.sqrt(mse(predictions, truth))\n",
    "\n",
    "def all_metrics(predictions,truth):\n",
    "    return [f(predictions,truth) for f in [mae,mse,rmse]]"
   ]
  },
  {
   "cell_type": "code",
   "execution_count": 43,
   "metadata": {},
   "outputs": [],
   "source": [
    "def rr(list_items):\n",
    "    relevant_indexes = np.asarray(list_items).nonzero()[0]\n",
    "    return 1 / (relevant_indexes[0] + 1) if len(relevant_indexes) > 0 else 0\n",
    "\n",
    "def mrr(list_list_items):\n",
    "    rr_list = [rr(list_items) for list_items in list_list_items]\n",
    "    return np.mean(rr_list)"
   ]
  },
  {
   "cell_type": "code",
   "execution_count": 44,
   "metadata": {},
   "outputs": [
    {
     "name": "stdout",
     "output_type": "stream",
     "text": [
      "0.4583333333333333\n"
     ]
    }
   ],
   "source": [
    "test_list = [[0,0,1],[0,1,0],[1,0,0],[0,0,0]]\n",
    "print(mrr(test_list)) #0.4583333333333333"
   ]
  },
  {
   "cell_type": "code",
   "execution_count": 45,
   "metadata": {},
   "outputs": [],
   "source": [
    "def dcg_at_k(r, k):\n",
    "    r = np.asfarray(r)[:k]\n",
    "    if r.size:\n",
    "        return r[0] +  np.sum(r[1:] / np.log2(np.arange(3, r.size + 2)))\n",
    "    return 0."
   ]
  },
  {
   "cell_type": "code",
   "execution_count": 46,
   "metadata": {},
   "outputs": [
    {
     "name": "stdout",
     "output_type": "stream",
     "text": [
      "3.0\n",
      "4.2618595071429155\n"
     ]
    }
   ],
   "source": [
    "r = [3, 2, 3, 0, 0, 1, 2, 2, 3, 0]\n",
    "print(dcg_at_k(r, 1)) #3.0\n",
    "print(dcg_at_k(r, 2)) #4.2618595071429155"
   ]
  },
  {
   "cell_type": "code",
   "execution_count": 47,
   "metadata": {},
   "outputs": [],
   "source": [
    "def ndcg_at_k(r, k):\n",
    "    dcg_max =  np.max(dcg_at_k(sorted(r)[::-1], k))\n",
    "    if not dcg_max:\n",
    "        return 0.\n",
    "    return dcg_at_k(r, k)/dcg_max"
   ]
  },
  {
   "cell_type": "code",
   "execution_count": 48,
   "metadata": {},
   "outputs": [
    {
     "name": "stdout",
     "output_type": "stream",
     "text": [
      "1.0\n",
      "0.7942854176010882\n"
     ]
    }
   ],
   "source": [
    "r = [3, 2, 3, 0, 0, 1, 2, 2, 3, 0]    \n",
    "print(ndcg_at_k(r, 1)) #1.0\n",
    "print(ndcg_at_k(r, 4)) #0.794285"
   ]
  },
  {
   "cell_type": "code",
   "execution_count": null,
   "metadata": {},
   "outputs": [],
   "source": []
  },
  {
   "cell_type": "markdown",
   "metadata": {},
   "source": [
    "#### Résultats"
   ]
  },
  {
   "cell_type": "code",
   "execution_count": 49,
   "metadata": {},
   "outputs": [
    {
     "data": {
      "text/html": [
       "<div>\n",
       "<style scoped>\n",
       "    .dataframe tbody tr th:only-of-type {\n",
       "        vertical-align: middle;\n",
       "    }\n",
       "\n",
       "    .dataframe tbody tr th {\n",
       "        vertical-align: top;\n",
       "    }\n",
       "\n",
       "    .dataframe thead th {\n",
       "        text-align: right;\n",
       "    }\n",
       "</style>\n",
       "<table border=\"1\" class=\"dataframe\">\n",
       "  <thead>\n",
       "    <tr style=\"text-align: right;\">\n",
       "      <th></th>\n",
       "      <th>mean_prediction</th>\n",
       "      <th>muser_prediction</th>\n",
       "      <th>mitem_prediction</th>\n",
       "    </tr>\n",
       "    <tr>\n",
       "      <th>metrics</th>\n",
       "      <th></th>\n",
       "      <th></th>\n",
       "      <th></th>\n",
       "    </tr>\n",
       "  </thead>\n",
       "  <tbody>\n",
       "    <tr>\n",
       "      <th>mae</th>\n",
       "      <td>0.873207</td>\n",
       "      <td>0.813881</td>\n",
       "      <td>0.769587</td>\n",
       "    </tr>\n",
       "    <tr>\n",
       "      <th>mse</th>\n",
       "      <td>1.167515</td>\n",
       "      <td>1.019638</td>\n",
       "      <td>0.943279</td>\n",
       "    </tr>\n",
       "    <tr>\n",
       "      <th>rmse</th>\n",
       "      <td>1.080516</td>\n",
       "      <td>1.009771</td>\n",
       "      <td>0.971225</td>\n",
       "    </tr>\n",
       "  </tbody>\n",
       "</table>\n",
       "</div>"
      ],
      "text/plain": [
       "         mean_prediction  muser_prediction  mitem_prediction\n",
       "metrics                                                     \n",
       "mae             0.873207          0.813881          0.769587\n",
       "mse             1.167515          1.019638          0.943279\n",
       "rmse            1.080516          1.009771          0.971225"
      ]
     },
     "execution_count": 49,
     "metadata": {},
     "output_type": "execute_result"
    }
   ],
   "source": [
    "metrics = [\"mae\",\"mse\",\"rmse\"]\n",
    "results_df = pd.DataFrame()\n",
    "\n",
    "results_df[\"metrics\"] = metrics\n",
    "results_df[\"mean_prediction\"] = all_metrics(test_ratings_df[\"mean_prediction\"],test_ratings_df[\"rating\"])\n",
    "results_df[\"muser_prediction\"] = all_metrics(test_ratings_df[\"muser_prediction\"],test_ratings_df[\"rating\"])\n",
    "results_df[\"mitem_prediction\"] = all_metrics(test_ratings_df[\"mitem_prediction\"],test_ratings_df[\"rating\"])\n",
    "results_df = results_df.set_index(\"metrics\")\n",
    "\n",
    "results_df.head()"
   ]
  },
  {
   "cell_type": "code",
   "execution_count": 50,
   "metadata": {},
   "outputs": [
    {
     "name": "stdout",
     "output_type": "stream",
     "text": [
      "---Best Models / Metrics: ---\n"
     ]
    },
    {
     "data": {
      "text/plain": [
       "metrics\n",
       "mae     mitem_prediction\n",
       "mse     mitem_prediction\n",
       "rmse    mitem_prediction\n",
       "dtype: object"
      ]
     },
     "execution_count": 50,
     "metadata": {},
     "output_type": "execute_result"
    }
   ],
   "source": [
    "print('---Best Models / Metrics: ---')\n",
    "results_df.idxmin(1)"
   ]
  },
  {
   "cell_type": "markdown",
   "metadata": {},
   "source": [
    "#### Surprise"
   ]
  },
  {
   "cell_type": "code",
   "execution_count": 51,
   "metadata": {},
   "outputs": [],
   "source": [
    "#! pip install --upgrade scikit-surprise"
   ]
  },
  {
   "cell_type": "code",
   "execution_count": 52,
   "metadata": {},
   "outputs": [],
   "source": [
    "from surprise import NormalPredictor, BaselineOnly, SVD\n",
    "from surprise import Dataset\n",
    "from surprise import Reader\n",
    "from surprise.model_selection import cross_validate"
   ]
  },
  {
   "cell_type": "code",
   "execution_count": 53,
   "metadata": {},
   "outputs": [],
   "source": [
    "data = Dataset.load_from_df(train_ratings_df[['user', 'movie', 'rating']], Reader(rating_scale=(1, 5)))"
   ]
  },
  {
   "cell_type": "code",
   "execution_count": 54,
   "metadata": {},
   "outputs": [
    {
     "name": "stdout",
     "output_type": "stream",
     "text": [
      "Estimating biases using als...\n"
     ]
    },
    {
     "data": {
      "text/plain": [
       "<surprise.prediction_algorithms.baseline_only.BaselineOnly at 0x7ff6a04ab610>"
      ]
     },
     "execution_count": 54,
     "metadata": {},
     "output_type": "execute_result"
    }
   ],
   "source": [
    "BaselineModel = BaselineOnly()\n",
    "BaselineModel.fit(data.build_full_trainset())"
   ]
  },
  {
   "cell_type": "code",
   "execution_count": 55,
   "metadata": {},
   "outputs": [
    {
     "data": {
      "text/html": [
       "<div>\n",
       "<style scoped>\n",
       "    .dataframe tbody tr th:only-of-type {\n",
       "        vertical-align: middle;\n",
       "    }\n",
       "\n",
       "    .dataframe tbody tr th {\n",
       "        vertical-align: top;\n",
       "    }\n",
       "\n",
       "    .dataframe thead th {\n",
       "        text-align: right;\n",
       "    }\n",
       "</style>\n",
       "<table border=\"1\" class=\"dataframe\">\n",
       "  <thead>\n",
       "    <tr style=\"text-align: right;\">\n",
       "      <th></th>\n",
       "      <th>movie</th>\n",
       "      <th>user</th>\n",
       "      <th>rating</th>\n",
       "      <th>mean_prediction</th>\n",
       "      <th>muser_prediction</th>\n",
       "      <th>mitem_prediction</th>\n",
       "      <th>opt_bl_prediction</th>\n",
       "    </tr>\n",
       "  </thead>\n",
       "  <tbody>\n",
       "    <tr>\n",
       "      <th>0</th>\n",
       "      <td>m/0814255</td>\n",
       "      <td>Ben McEachen</td>\n",
       "      <td>3.50</td>\n",
       "      <td>3.027516</td>\n",
       "      <td>3.151316</td>\n",
       "      <td>2.735677</td>\n",
       "      <td>2.854379</td>\n",
       "    </tr>\n",
       "    <tr>\n",
       "      <th>5</th>\n",
       "      <td>m/0814255</td>\n",
       "      <td>Mark Adams</td>\n",
       "      <td>4.00</td>\n",
       "      <td>3.027516</td>\n",
       "      <td>3.427481</td>\n",
       "      <td>2.735677</td>\n",
       "      <td>3.118106</td>\n",
       "    </tr>\n",
       "    <tr>\n",
       "      <th>10</th>\n",
       "      <td>m/0814255</td>\n",
       "      <td>Vic Holtreman</td>\n",
       "      <td>3.50</td>\n",
       "      <td>3.027516</td>\n",
       "      <td>3.438144</td>\n",
       "      <td>2.735677</td>\n",
       "      <td>3.141642</td>\n",
       "    </tr>\n",
       "    <tr>\n",
       "      <th>15</th>\n",
       "      <td>m/0814255</td>\n",
       "      <td>Jeffrey M. Anderson</td>\n",
       "      <td>1.25</td>\n",
       "      <td>3.027516</td>\n",
       "      <td>3.442428</td>\n",
       "      <td>2.735677</td>\n",
       "      <td>3.091749</td>\n",
       "    </tr>\n",
       "    <tr>\n",
       "      <th>20</th>\n",
       "      <td>m/0814255</td>\n",
       "      <td>Stephen Whitty</td>\n",
       "      <td>3.75</td>\n",
       "      <td>3.027516</td>\n",
       "      <td>3.086436</td>\n",
       "      <td>2.735677</td>\n",
       "      <td>2.830411</td>\n",
       "    </tr>\n",
       "  </tbody>\n",
       "</table>\n",
       "</div>"
      ],
      "text/plain": [
       "        movie                 user  rating  mean_prediction  muser_prediction  \\\n",
       "0   m/0814255         Ben McEachen    3.50         3.027516          3.151316   \n",
       "5   m/0814255           Mark Adams    4.00         3.027516          3.427481   \n",
       "10  m/0814255        Vic Holtreman    3.50         3.027516          3.438144   \n",
       "15  m/0814255  Jeffrey M. Anderson    1.25         3.027516          3.442428   \n",
       "20  m/0814255       Stephen Whitty    3.75         3.027516          3.086436   \n",
       "\n",
       "    mitem_prediction  opt_bl_prediction  \n",
       "0           2.735677           2.854379  \n",
       "5           2.735677           3.118106  \n",
       "10          2.735677           3.141642  \n",
       "15          2.735677           3.091749  \n",
       "20          2.735677           2.830411  "
      ]
     },
     "execution_count": 55,
     "metadata": {},
     "output_type": "execute_result"
    }
   ],
   "source": [
    "def opt_bl_rating_pred(user_item):\n",
    "    user = user_item[\"user\"]\n",
    "    item = user_item[\"movie\"]\n",
    "    prediction = BaselineModel.predict(user,item)\n",
    "    return prediction.est\n",
    "\n",
    "test_ratings_df[\"opt_bl_prediction\"] = test_ratings_df[[\"user\",\"movie\"]].apply(opt_bl_rating_pred,axis=1) \n",
    "test_ratings_df.head(5)"
   ]
  },
  {
   "cell_type": "code",
   "execution_count": 56,
   "metadata": {},
   "outputs": [
    {
     "data": {
      "text/plain": [
       "<surprise.prediction_algorithms.matrix_factorization.SVD at 0x7ff6a0487d30>"
      ]
     },
     "execution_count": 56,
     "metadata": {},
     "output_type": "execute_result"
    }
   ],
   "source": [
    "SVDmodel = SVD()\n",
    "SVDmodel.fit(data.build_full_trainset())"
   ]
  },
  {
   "cell_type": "code",
   "execution_count": 57,
   "metadata": {},
   "outputs": [
    {
     "data": {
      "text/html": [
       "<div>\n",
       "<style scoped>\n",
       "    .dataframe tbody tr th:only-of-type {\n",
       "        vertical-align: middle;\n",
       "    }\n",
       "\n",
       "    .dataframe tbody tr th {\n",
       "        vertical-align: top;\n",
       "    }\n",
       "\n",
       "    .dataframe thead th {\n",
       "        text-align: right;\n",
       "    }\n",
       "</style>\n",
       "<table border=\"1\" class=\"dataframe\">\n",
       "  <thead>\n",
       "    <tr style=\"text-align: right;\">\n",
       "      <th></th>\n",
       "      <th>movie</th>\n",
       "      <th>user</th>\n",
       "      <th>rating</th>\n",
       "      <th>mean_prediction</th>\n",
       "      <th>muser_prediction</th>\n",
       "      <th>mitem_prediction</th>\n",
       "      <th>opt_bl_prediction</th>\n",
       "      <th>svd_prediction</th>\n",
       "    </tr>\n",
       "  </thead>\n",
       "  <tbody>\n",
       "    <tr>\n",
       "      <th>0</th>\n",
       "      <td>m/0814255</td>\n",
       "      <td>Ben McEachen</td>\n",
       "      <td>3.50</td>\n",
       "      <td>3.027516</td>\n",
       "      <td>3.151316</td>\n",
       "      <td>2.735677</td>\n",
       "      <td>2.854379</td>\n",
       "      <td>2.698376</td>\n",
       "    </tr>\n",
       "    <tr>\n",
       "      <th>5</th>\n",
       "      <td>m/0814255</td>\n",
       "      <td>Mark Adams</td>\n",
       "      <td>4.00</td>\n",
       "      <td>3.027516</td>\n",
       "      <td>3.427481</td>\n",
       "      <td>2.735677</td>\n",
       "      <td>3.118106</td>\n",
       "      <td>3.203224</td>\n",
       "    </tr>\n",
       "    <tr>\n",
       "      <th>10</th>\n",
       "      <td>m/0814255</td>\n",
       "      <td>Vic Holtreman</td>\n",
       "      <td>3.50</td>\n",
       "      <td>3.027516</td>\n",
       "      <td>3.438144</td>\n",
       "      <td>2.735677</td>\n",
       "      <td>3.141642</td>\n",
       "      <td>3.292657</td>\n",
       "    </tr>\n",
       "    <tr>\n",
       "      <th>15</th>\n",
       "      <td>m/0814255</td>\n",
       "      <td>Jeffrey M. Anderson</td>\n",
       "      <td>1.25</td>\n",
       "      <td>3.027516</td>\n",
       "      <td>3.442428</td>\n",
       "      <td>2.735677</td>\n",
       "      <td>3.091749</td>\n",
       "      <td>3.085021</td>\n",
       "    </tr>\n",
       "    <tr>\n",
       "      <th>20</th>\n",
       "      <td>m/0814255</td>\n",
       "      <td>Stephen Whitty</td>\n",
       "      <td>3.75</td>\n",
       "      <td>3.027516</td>\n",
       "      <td>3.086436</td>\n",
       "      <td>2.735677</td>\n",
       "      <td>2.830411</td>\n",
       "      <td>2.827282</td>\n",
       "    </tr>\n",
       "  </tbody>\n",
       "</table>\n",
       "</div>"
      ],
      "text/plain": [
       "        movie                 user  rating  mean_prediction  muser_prediction  \\\n",
       "0   m/0814255         Ben McEachen    3.50         3.027516          3.151316   \n",
       "5   m/0814255           Mark Adams    4.00         3.027516          3.427481   \n",
       "10  m/0814255        Vic Holtreman    3.50         3.027516          3.438144   \n",
       "15  m/0814255  Jeffrey M. Anderson    1.25         3.027516          3.442428   \n",
       "20  m/0814255       Stephen Whitty    3.75         3.027516          3.086436   \n",
       "\n",
       "    mitem_prediction  opt_bl_prediction  svd_prediction  \n",
       "0           2.735677           2.854379        2.698376  \n",
       "5           2.735677           3.118106        3.203224  \n",
       "10          2.735677           3.141642        3.292657  \n",
       "15          2.735677           3.091749        3.085021  \n",
       "20          2.735677           2.830411        2.827282  "
      ]
     },
     "execution_count": 57,
     "metadata": {},
     "output_type": "execute_result"
    }
   ],
   "source": [
    "def svd_rating_pred(user_item):\n",
    "    user = user_item[\"user\"]\n",
    "    item = user_item[\"movie\"]\n",
    "    prediction = SVDmodel.predict(user,item)\n",
    "    return prediction.est\n",
    "\n",
    "test_ratings_df[\"svd_prediction\"] = test_ratings_df[[\"user\",\"movie\"]].apply(svd_rating_pred,axis=1) \n",
    "test_ratings_df.head(5)"
   ]
  },
  {
   "cell_type": "code",
   "execution_count": 58,
   "metadata": {},
   "outputs": [
    {
     "name": "stdout",
     "output_type": "stream",
     "text": [
      "Computing the msd similarity matrix...\n",
      "Done computing similarity matrix.\n"
     ]
    },
    {
     "data": {
      "text/plain": [
       "<surprise.prediction_algorithms.knns.KNNBasic at 0x7ff6f72c6760>"
      ]
     },
     "execution_count": 58,
     "metadata": {},
     "output_type": "execute_result"
    }
   ],
   "source": [
    "from surprise.prediction_algorithms.knns import KNNBasic, KNNWithMeans\n",
    "\n",
    "KNNmodel = KNNBasic()\n",
    "KNNmodel.fit(data.build_full_trainset())"
   ]
  },
  {
   "cell_type": "code",
   "execution_count": 59,
   "metadata": {},
   "outputs": [
    {
     "data": {
      "text/html": [
       "<div>\n",
       "<style scoped>\n",
       "    .dataframe tbody tr th:only-of-type {\n",
       "        vertical-align: middle;\n",
       "    }\n",
       "\n",
       "    .dataframe tbody tr th {\n",
       "        vertical-align: top;\n",
       "    }\n",
       "\n",
       "    .dataframe thead th {\n",
       "        text-align: right;\n",
       "    }\n",
       "</style>\n",
       "<table border=\"1\" class=\"dataframe\">\n",
       "  <thead>\n",
       "    <tr style=\"text-align: right;\">\n",
       "      <th></th>\n",
       "      <th>movie</th>\n",
       "      <th>user</th>\n",
       "      <th>rating</th>\n",
       "      <th>mean_prediction</th>\n",
       "      <th>muser_prediction</th>\n",
       "      <th>mitem_prediction</th>\n",
       "      <th>opt_bl_prediction</th>\n",
       "      <th>svd_prediction</th>\n",
       "      <th>knn_prediction</th>\n",
       "    </tr>\n",
       "  </thead>\n",
       "  <tbody>\n",
       "    <tr>\n",
       "      <th>0</th>\n",
       "      <td>m/0814255</td>\n",
       "      <td>Ben McEachen</td>\n",
       "      <td>3.50</td>\n",
       "      <td>3.027516</td>\n",
       "      <td>3.151316</td>\n",
       "      <td>2.735677</td>\n",
       "      <td>2.854379</td>\n",
       "      <td>2.698376</td>\n",
       "      <td>2.837384</td>\n",
       "    </tr>\n",
       "    <tr>\n",
       "      <th>5</th>\n",
       "      <td>m/0814255</td>\n",
       "      <td>Mark Adams</td>\n",
       "      <td>4.00</td>\n",
       "      <td>3.027516</td>\n",
       "      <td>3.427481</td>\n",
       "      <td>2.735677</td>\n",
       "      <td>3.118106</td>\n",
       "      <td>3.203224</td>\n",
       "      <td>2.848680</td>\n",
       "    </tr>\n",
       "    <tr>\n",
       "      <th>10</th>\n",
       "      <td>m/0814255</td>\n",
       "      <td>Vic Holtreman</td>\n",
       "      <td>3.50</td>\n",
       "      <td>3.027516</td>\n",
       "      <td>3.438144</td>\n",
       "      <td>2.735677</td>\n",
       "      <td>3.141642</td>\n",
       "      <td>3.292657</td>\n",
       "      <td>2.933733</td>\n",
       "    </tr>\n",
       "    <tr>\n",
       "      <th>15</th>\n",
       "      <td>m/0814255</td>\n",
       "      <td>Jeffrey M. Anderson</td>\n",
       "      <td>1.25</td>\n",
       "      <td>3.027516</td>\n",
       "      <td>3.442428</td>\n",
       "      <td>2.735677</td>\n",
       "      <td>3.091749</td>\n",
       "      <td>3.085021</td>\n",
       "      <td>2.926492</td>\n",
       "    </tr>\n",
       "    <tr>\n",
       "      <th>20</th>\n",
       "      <td>m/0814255</td>\n",
       "      <td>Stephen Whitty</td>\n",
       "      <td>3.75</td>\n",
       "      <td>3.027516</td>\n",
       "      <td>3.086436</td>\n",
       "      <td>2.735677</td>\n",
       "      <td>2.830411</td>\n",
       "      <td>2.827282</td>\n",
       "      <td>2.792761</td>\n",
       "    </tr>\n",
       "  </tbody>\n",
       "</table>\n",
       "</div>"
      ],
      "text/plain": [
       "        movie                 user  rating  mean_prediction  muser_prediction  \\\n",
       "0   m/0814255         Ben McEachen    3.50         3.027516          3.151316   \n",
       "5   m/0814255           Mark Adams    4.00         3.027516          3.427481   \n",
       "10  m/0814255        Vic Holtreman    3.50         3.027516          3.438144   \n",
       "15  m/0814255  Jeffrey M. Anderson    1.25         3.027516          3.442428   \n",
       "20  m/0814255       Stephen Whitty    3.75         3.027516          3.086436   \n",
       "\n",
       "    mitem_prediction  opt_bl_prediction  svd_prediction  knn_prediction  \n",
       "0           2.735677           2.854379        2.698376        2.837384  \n",
       "5           2.735677           3.118106        3.203224        2.848680  \n",
       "10          2.735677           3.141642        3.292657        2.933733  \n",
       "15          2.735677           3.091749        3.085021        2.926492  \n",
       "20          2.735677           2.830411        2.827282        2.792761  "
      ]
     },
     "execution_count": 59,
     "metadata": {},
     "output_type": "execute_result"
    }
   ],
   "source": [
    "def knn_rating_pred(user_item):\n",
    "    user = user_item[\"user\"]\n",
    "    item = user_item[\"movie\"]\n",
    "    prediction = KNNmodel.predict(user,item)\n",
    "    return prediction.est\n",
    "\n",
    "test_ratings_df[\"knn_prediction\"] = test_ratings_df[[\"user\",\"movie\"]].apply(knn_rating_pred,axis=1) \n",
    "test_ratings_df.head(5)"
   ]
  },
  {
   "cell_type": "code",
   "execution_count": 60,
   "metadata": {},
   "outputs": [],
   "source": [
    "results_df[\"opt_bl_prediction\"] = all_metrics(test_ratings_df[\"opt_bl_prediction\"],test_ratings_df[\"rating\"])\n",
    "results_df[\"svd_prediction\"] = all_metrics(test_ratings_df[\"svd_prediction\"],test_ratings_df[\"rating\"])\n",
    "results_df[\"knn_prediction\"] = all_metrics(test_ratings_df[\"knn_prediction\"],test_ratings_df[\"rating\"])"
   ]
  },
  {
   "cell_type": "code",
   "execution_count": 61,
   "metadata": {},
   "outputs": [
    {
     "data": {
      "text/html": [
       "<div>\n",
       "<style scoped>\n",
       "    .dataframe tbody tr th:only-of-type {\n",
       "        vertical-align: middle;\n",
       "    }\n",
       "\n",
       "    .dataframe tbody tr th {\n",
       "        vertical-align: top;\n",
       "    }\n",
       "\n",
       "    .dataframe thead th {\n",
       "        text-align: right;\n",
       "    }\n",
       "</style>\n",
       "<table border=\"1\" class=\"dataframe\">\n",
       "  <thead>\n",
       "    <tr style=\"text-align: right;\">\n",
       "      <th></th>\n",
       "      <th>mean_prediction</th>\n",
       "      <th>muser_prediction</th>\n",
       "      <th>mitem_prediction</th>\n",
       "      <th>opt_bl_prediction</th>\n",
       "      <th>svd_prediction</th>\n",
       "      <th>knn_prediction</th>\n",
       "    </tr>\n",
       "    <tr>\n",
       "      <th>metrics</th>\n",
       "      <th></th>\n",
       "      <th></th>\n",
       "      <th></th>\n",
       "      <th></th>\n",
       "      <th></th>\n",
       "      <th></th>\n",
       "    </tr>\n",
       "  </thead>\n",
       "  <tbody>\n",
       "    <tr>\n",
       "      <th>mae</th>\n",
       "      <td>0.873207</td>\n",
       "      <td>0.813881</td>\n",
       "      <td>0.769587</td>\n",
       "      <td>0.703705</td>\n",
       "      <td>0.596406</td>\n",
       "      <td>0.648000</td>\n",
       "    </tr>\n",
       "    <tr>\n",
       "      <th>mse</th>\n",
       "      <td>1.167515</td>\n",
       "      <td>1.019638</td>\n",
       "      <td>0.943279</td>\n",
       "      <td>0.797493</td>\n",
       "      <td>0.597603</td>\n",
       "      <td>0.699307</td>\n",
       "    </tr>\n",
       "    <tr>\n",
       "      <th>rmse</th>\n",
       "      <td>1.080516</td>\n",
       "      <td>1.009771</td>\n",
       "      <td>0.971225</td>\n",
       "      <td>0.893025</td>\n",
       "      <td>0.773048</td>\n",
       "      <td>0.836246</td>\n",
       "    </tr>\n",
       "  </tbody>\n",
       "</table>\n",
       "</div>"
      ],
      "text/plain": [
       "         mean_prediction  muser_prediction  mitem_prediction  \\\n",
       "metrics                                                        \n",
       "mae             0.873207          0.813881          0.769587   \n",
       "mse             1.167515          1.019638          0.943279   \n",
       "rmse            1.080516          1.009771          0.971225   \n",
       "\n",
       "         opt_bl_prediction  svd_prediction  knn_prediction  \n",
       "metrics                                                     \n",
       "mae               0.703705        0.596406        0.648000  \n",
       "mse               0.797493        0.597603        0.699307  \n",
       "rmse              0.893025        0.773048        0.836246  "
      ]
     },
     "execution_count": 61,
     "metadata": {},
     "output_type": "execute_result"
    }
   ],
   "source": [
    "results_df.head()"
   ]
  },
  {
   "cell_type": "code",
   "execution_count": 62,
   "metadata": {},
   "outputs": [
    {
     "name": "stdout",
     "output_type": "stream",
     "text": [
      "---Best Models / Metrics: ---\n"
     ]
    },
    {
     "data": {
      "text/plain": [
       "metrics\n",
       "mae     svd_prediction\n",
       "mse     svd_prediction\n",
       "rmse    svd_prediction\n",
       "dtype: object"
      ]
     },
     "execution_count": 62,
     "metadata": {},
     "output_type": "execute_result"
    }
   ],
   "source": [
    "print('---Best Models / Metrics: ---')\n",
    "results_df.idxmin(1)"
   ]
  },
  {
   "cell_type": "code",
   "execution_count": null,
   "metadata": {},
   "outputs": [],
   "source": []
  },
  {
   "cell_type": "code",
   "execution_count": 63,
   "metadata": {},
   "outputs": [],
   "source": [
    "already_seen = (\n",
    "    train_ratings_df \n",
    "    .groupby(\"user\")[\"movie\"]\n",
    "    .apply(list)\n",
    "    .to_dict()\n",
    "    )\n",
    "\n",
    "ground_truth = (\n",
    "    test_ratings_df[test_ratings_df.rating >= 5] \n",
    "    .groupby(\"user\")[\"movie\"]\n",
    "    .apply(list)\n",
    "    .to_dict()\n",
    "    )"
   ]
  },
  {
   "cell_type": "code",
   "execution_count": 64,
   "metadata": {},
   "outputs": [
    {
     "name": "stdout",
     "output_type": "stream",
     "text": [
      "The recommender system will have to pick a few items from 17643 possible items\n"
     ]
    }
   ],
   "source": [
    "existing_items = set(train_ratings_df[\"movie\"].unique())\n",
    "print(\"The recommender system will have to pick a few items from\",len(existing_items),\"possible items\")"
   ]
  },
  {
   "cell_type": "code",
   "execution_count": 65,
   "metadata": {},
   "outputs": [
    {
     "name": "stdout",
     "output_type": "stream",
     "text": [
      "MSE: 0.5976031162673583 -- MAE: 0.5964060854124978\n"
     ]
    }
   ],
   "source": [
    "mse = ((test_ratings_df[\"rating\"] - test_ratings_df[\"svd_prediction\"])**2).mean()\n",
    "mae = ((test_ratings_df[\"rating\"] - test_ratings_df[\"svd_prediction\"]).abs()).mean()\n",
    "\n",
    "print(f\"MSE: {mse} -- MAE: {mae}\")"
   ]
  },
  {
   "cell_type": "markdown",
   "metadata": {},
   "source": [
    "#### Liste des élements pertinents"
   ]
  },
  {
   "cell_type": "code",
   "execution_count": 66,
   "metadata": {},
   "outputs": [],
   "source": [
    "def model_rating_pred(model,user,item):\n",
    "    prediction = model.predict(user,item)\n",
    "    return prediction.est"
   ]
  },
  {
   "cell_type": "code",
   "execution_count": 67,
   "metadata": {},
   "outputs": [],
   "source": [
    "list_of_rel = []\n",
    "    \n",
    "for user,will_see in ground_truth.items():\n",
    "    rel_list = []\n",
    "    will_see = set(will_see)\n",
    "    has_seen = set(already_seen.get(user, []))\n",
    "    can_see = [(mid,model_rating_pred(SVDmodel,user,mid)) for mid in existing_items - has_seen]\n",
    "    \n",
    "    for movie,score in reversed(sorted(can_see,key=lambda x:x[1])):\n",
    "        if movie in will_see:\n",
    "            rel_list.append(1)\n",
    "            break\n",
    "        else:\n",
    "            rel_list.append(0)        \n",
    "    rel_list[-1] = 1 # when no relevant item exist\n",
    "    list_of_rel.append(rel_list)"
   ]
  },
  {
   "cell_type": "code",
   "execution_count": 68,
   "metadata": {},
   "outputs": [
    {
     "name": "stdout",
     "output_type": "stream",
     "text": [
      "On average, the 26th proposed item is relevant (on 17643)\n"
     ]
    }
   ],
   "source": [
    "svd_mrr = mrr(list_of_rel)\n",
    "print(f\"On average, the {int(round(1/svd_mrr,0))}th proposed item is relevant (on {len(existing_items)})\")"
   ]
  },
  {
   "cell_type": "markdown",
   "metadata": {},
   "source": [
    "#### Baseline : films populaires"
   ]
  },
  {
   "cell_type": "code",
   "execution_count": 69,
   "metadata": {},
   "outputs": [],
   "source": [
    "movie_counts = train_ratings_df.groupby('movie')[\"rating\"].count().sort_values(ascending=False)\n",
    "popular_item_list = movie_counts.index.tolist()"
   ]
  },
  {
   "cell_type": "code",
   "execution_count": 70,
   "metadata": {},
   "outputs": [
    {
     "data": {
      "text/plain": [
       "17643"
      ]
     },
     "execution_count": 70,
     "metadata": {},
     "output_type": "execute_result"
    }
   ],
   "source": [
    "len(popular_item_list)"
   ]
  },
  {
   "cell_type": "code",
   "execution_count": 71,
   "metadata": {},
   "outputs": [
    {
     "name": "stdout",
     "output_type": "stream",
     "text": [
      "['m/star_wars_the_rise_of_skywalker', 'm/solo_a_star_wars_story', 'm/star_wars_the_last_jedi', 'm/spider_man_far_from_home', 'm/ready_player_one', 'm/star_wars_episode_vii_the_force_awakens', 'm/rogue_one_a_star_wars_story', 'm/shazam', 'm/skyfall', 'm/star_trek_11']\n"
     ]
    }
   ],
   "source": [
    "print(popular_item_list[:10])"
   ]
  },
  {
   "cell_type": "code",
   "execution_count": 72,
   "metadata": {},
   "outputs": [],
   "source": [
    "list_of_rel = []\n",
    "\n",
    "for user,will_see in ground_truth.items():\n",
    "    rel_list = []\n",
    "    will_see = set(will_see)\n",
    "    has_seen = set(already_seen.get(user, []))\n",
    "    \n",
    "    for movie in popular_item_list:\n",
    "        if movie in has_seen:         # User has already seen movie -> Can filter prediction\n",
    "            continue\n",
    "        elif movie in will_see:       # User will see, spot on suggestion !         \n",
    "            rel_list.append(1) # To Complete\n",
    "            break\n",
    "        else:                         # No clue.\n",
    "            rel_list.append(0) # To Complete\n",
    "            \n",
    "    if rel_list[-1] == 1:             # when no relevant item exist, no need to take it into account.\n",
    "        list_of_rel.append(rel_list)"
   ]
  },
  {
   "cell_type": "code",
   "execution_count": 73,
   "metadata": {},
   "outputs": [
    {
     "name": "stdout",
     "output_type": "stream",
     "text": [
      "On average, the 119th proposed item is relevant (on 17643)\n"
     ]
    }
   ],
   "source": [
    "pop_mrr = mrr(list_of_rel)\n",
    "print(f\"On average, the {int(round(1/pop_mrr,0))}th proposed item is relevant (on {len(existing_items)})\")"
   ]
  },
  {
   "cell_type": "code",
   "execution_count": null,
   "metadata": {},
   "outputs": [],
   "source": []
  }
 ],
 "metadata": {
  "kernelspec": {
   "display_name": "Python 3 (ipykernel)",
   "language": "python",
   "name": "python3"
  },
  "language_info": {
   "codemirror_mode": {
    "name": "ipython",
    "version": 3
   },
   "file_extension": ".py",
   "mimetype": "text/x-python",
   "name": "python",
   "nbconvert_exporter": "python",
   "pygments_lexer": "ipython3",
   "version": "3.9.13"
  },
  "vscode": {
   "interpreter": {
    "hash": "b95548b4dbeab8d7149cc314132916309587e88e53dda750e0327569fec57d0f"
   }
  }
 },
 "nbformat": 4,
 "nbformat_minor": 2
}
